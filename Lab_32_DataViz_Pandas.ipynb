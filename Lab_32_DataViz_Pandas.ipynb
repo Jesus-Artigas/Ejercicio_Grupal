{
 "cells": [
  {
   "cell_type": "markdown",
   "metadata": {
    "id": "WEElry__dArc"
   },
   "source": [
    "# **VISUALIZACIÓN DE DATOS EN PANDAS**\n",
    "\n",
    "La biblioteca Pandas en python se utiliza principalmente para el análisis de datos. No es una biblioteca de visualización de datos, pero podemos crear gráficos básicos usando Pandas. Pandas es muy útil y práctico si queremos crear gráficos de análisis de datos exploratorios. No necesitamos importar otras bibliotecas de visualización de datos además de Pandas para tales tareas.\n",
    "\n",
    "Como Pandas es la popular biblioteca de análisis de datos de Python, proporciona varias funciones diferentes para visualizar nuestros datos con la ayuda de la función `.plot()`. Hay una ventaja más de usar Pandas para la visualización: podemos serializar o crear una canalización de funciones de análisis de datos y funciones de trazado. Simplifica la tarea.\n"
   ]
  },
  {
   "cell_type": "code",
   "execution_count": null,
   "metadata": {
    "id": "Yc6m3cbPc4YV"
   },
   "outputs": [],
   "source": [
    "# Importamos nuestras librerias\n",
    "import pandas as pd\n",
    "import numpy as np"
   ]
  },
  {
   "cell_type": "code",
   "execution_count": null,
   "metadata": {
    "colab": {
     "base_uri": "https://localhost:8080/",
     "height": 282
    },
    "id": "SDRJ0HoKdLvC",
    "outputId": "acbd74f8-cb44-4494-fe6f-a7c27128dc5d"
   },
   "outputs": [],
   "source": [
    "# Gráfico lineal\n",
    "a = pd.Series([40, 34, 30, 22, 28, 17, 19, 20, 13, 9, 15, 10, 7, 3])\n",
    "a.plot()"
   ]
  },
  {
   "cell_type": "code",
   "execution_count": null,
   "metadata": {
    "colab": {
     "base_uri": "https://localhost:8080/",
     "height": 410
    },
    "id": "QJzdOZlieQLS",
    "outputId": "ea1d053a-12f9-4c27-a7a3-09e70358af07"
   },
   "outputs": [],
   "source": [
    "# Customización gráfico lineal\n",
    "a.plot(figsize=(8, 6), color='red', title = 'Line Plot', fontsize=15)"
   ]
  },
  {
   "cell_type": "code",
   "execution_count": null,
   "metadata": {
    "colab": {
     "base_uri": "https://localhost:8080/",
     "height": 282
    },
    "id": "OIac32nXedUo",
    "outputId": "334b3081-30f7-4d74-b37b-b897f8f2575d"
   },
   "outputs": [],
   "source": [
    "# Convertir nuestro gráfico lineal a uno de área\n",
    "\n",
    "# a.plot(kind='area')\n",
    "\n",
    "a.plot.area()"
   ]
  },
  {
   "cell_type": "code",
   "execution_count": null,
   "metadata": {
    "colab": {
     "base_uri": "https://localhost:8080/",
     "height": 488
    },
    "id": "FpPC1_iUeyLc",
    "outputId": "c1c950ff-16e2-4e19-945f-14ede26eca98"
   },
   "outputs": [],
   "source": [
    "# Agregamos 2 series más y creamos un DF con las 3 series de datos\n",
    "b = pd.Series([45, 22, 12, 9, 20, 34, 28, 19, 26, 38, 41, 24, 14, 32])\n",
    "c = pd.Series([25, 38, 33, 38, 23, 12, 30, 37, 34, 22, 16, 24, 12, 9])\n",
    "d = pd.DataFrame({'a':a, 'b': b, 'c': c})\n",
    "d"
   ]
  },
  {
   "cell_type": "code",
   "execution_count": null,
   "metadata": {
    "colab": {
     "base_uri": "https://localhost:8080/",
     "height": 407
    },
    "id": "YR0v8EH8fD0Q",
    "outputId": "1b2e56b2-d19c-460f-a694-dcd6865161eb"
   },
   "outputs": [],
   "source": [
    "# Ploteamos un gráfico de área de 'd'\n",
    "d.plot.area(figsize=(8, 6), title='Area Plot', fontsize = 12)"
   ]
  },
  {
   "cell_type": "code",
   "execution_count": null,
   "metadata": {
    "colab": {
     "base_uri": "https://localhost:8080/",
     "height": 410
    },
    "id": "8lm6NO49fVo8",
    "outputId": "d15e507c-ac97-487e-ab0a-95cf49f2ec65"
   },
   "outputs": [],
   "source": [
    "# Customizamos nuestra figura\n",
    "d.plot.area(alpha=0.2, color=['coral', 'purple', 'lightgreen'],figsize=(8, 6), title='Area Plot', fontsize=12)"
   ]
  },
  {
   "cell_type": "markdown",
   "metadata": {
    "id": "oQpMefZZgPEW"
   },
   "source": [
    "**Véase:** [pandas.DataFrame.plot](https://pandas.pydata.org/docs/reference/api/pandas.DataFrame.plot.html)"
   ]
  },
  {
   "cell_type": "markdown",
   "metadata": {
    "id": "_lEZWsFqzPaf"
   },
   "source": [
    "# 1.Conjunto de datos\n",
    "\n",
    "Fuente de datos del Centro de Control y Prevención de Enfermedades: [National Health and Nutrition Examination Surveys (NHANES)](https://wwwn.cdc.gov/nchs/nhanes/continuousnhanes/overview.aspx?BeginYear=2015)"
   ]
  },
  {
   "cell_type": "code",
   "execution_count": null,
   "metadata": {
    "colab": {
     "base_uri": "https://localhost:8080/",
     "height": 235
    },
    "id": "XnFJc7ALgaCd",
    "outputId": "9de86a9e-f8b5-4981-d013-5c256f28a5fd"
   },
   "outputs": [],
   "source": [
    "# Leemos nuestro dataset\n",
    "df = pd.read_csv('nhanes_2015_2016.csv')\n",
    "df.head()"
   ]
  },
  {
   "cell_type": "markdown",
   "metadata": {
    "id": "CsQPHR3fuKti"
   },
   "source": [
    "# 2.Histograma"
   ]
  },
  {
   "cell_type": "code",
   "execution_count": null,
   "metadata": {
    "colab": {
     "base_uri": "https://localhost:8080/",
     "height": 283
    },
    "id": "-cC9ZJ1zgsC8",
    "outputId": "0387792c-ff96-4ebd-9296-6380a4b8cd20"
   },
   "outputs": [],
   "source": [
    "# Crear un Histograma con la variable ‘BMXWT’\n",
    "df['BMXWT'].hist()"
   ]
  },
  {
   "cell_type": "code",
   "execution_count": null,
   "metadata": {
    "colab": {
     "base_uri": "https://localhost:8080/",
     "height": 503
    },
    "id": "gNx_HAjCgxZY",
    "outputId": "518673e4-0916-4cb8-deb9-a44ad2c2d2ba"
   },
   "outputs": [],
   "source": [
    "# Histograma con tres variables apiladas .plot.hist()\n",
    "df[['BMXWT', 'BMXHT', 'BMXBMI']].plot.hist(bins=20, fontsize=12, figsize=(10, 8))"
   ]
  },
  {
   "cell_type": "code",
   "execution_count": null,
   "metadata": {
    "colab": {
     "base_uri": "https://localhost:8080/",
     "height": 586
    },
    "id": "QzL362RUg4Pa",
    "outputId": "a49ee4f0-ae8e-43cc-8be8-ee32e9044717"
   },
   "outputs": [],
   "source": [
    "# Tres histogramas en una línea de código .hist()\n",
    "df[['BMXWT', 'BMXHT', 'BMXBMI']].hist(bins=20,figsize=(10, 8))"
   ]
  },
  {
   "cell_type": "code",
   "execution_count": null,
   "metadata": {
    "id": "nIeGI7DlhBUi"
   },
   "outputs": [],
   "source": [
    "# Sustituimos el valor numérico de la columna 'DMDEDUC2' por valores de cadena más significativos\n",
    "df[\"DMDEDUC2x\"] = df.DMDEDUC2.replace({1: \"less than 9\", 2: \"9-11\", 3: \"HS/GED\", 4: \"Some college/AA\", 5: \"College\", 7: \"Refused\", 9: \"Don't know\"})\n",
    "df[\"DMDEDUC2x\"].head()"
   ]
  },
  {
   "cell_type": "code",
   "execution_count": null,
   "metadata": {
    "colab": {
     "base_uri": "https://localhost:8080/",
     "height": 842
    },
    "id": "wj7mJrqyhE08",
    "outputId": "036b0d50-2743-4e4d-c287-b45e494be035"
   },
   "outputs": [],
   "source": [
    "# Ploteamos histogramas con la distribución de la presión arterial sistólica en la población de cada nivel educativo\n",
    "df[['DMDEDUC2x', 'BPXSY1']].hist(by='DMDEDUC2x', figsize=(18, 12))"
   ]
  },
  {
   "cell_type": "markdown",
   "metadata": {
    "id": "jOgtqGvFuZaz"
   },
   "source": [
    "# 3.Gráfico de barra"
   ]
  },
  {
   "cell_type": "code",
   "execution_count": null,
   "metadata": {
    "id": "c6vvPYUKhLuQ"
   },
   "outputs": [],
   "source": [
    "# Sustituimos el valor numérico de la columna 'DMDMARTL' por valores de cadena más significativos\n",
    "df[\"DMDMARTLx\"] = df.DMDMARTL.replace({1: \"Married\", 2: \"Widowed\", 3: \"Divorced\", 4: \"Separated\", 5: \"Never married\", 6: \"Living w/partner\", 77: \"Refused\"})\n",
    "df[\"DMDMARTLx\"]"
   ]
  },
  {
   "cell_type": "code",
   "execution_count": null,
   "metadata": {},
   "outputs": [],
   "source": [
    "df.head()"
   ]
  },
  {
   "cell_type": "code",
   "execution_count": null,
   "metadata": {
    "colab": {
     "base_uri": "https://localhost:8080/",
     "height": 460
    },
    "id": "8wlhPK4fhO8c",
    "outputId": "c1779c25-db89-4247-c084-97cc438f3601"
   },
   "outputs": [],
   "source": [
    "# Agrupamos los datos por diferentes estados civiles y tomamos la media de cada grupo\n",
    "df.groupby('DMDMARTLx')['BMXARMC'].min().plot(kind='barh')"
   ]
  },
  {
   "cell_type": "code",
   "execution_count": null,
   "metadata": {
    "colab": {
     "base_uri": "https://localhost:8080/",
     "height": 391
    },
    "id": "jHgnBm5KhTyS",
    "outputId": "d6c4830a-7c2e-43d6-b849-b0d85a3986df"
   },
   "outputs": [],
   "source": [
    "# El mismo gráfico pero en horizontal\n",
    "df.groupby('DMDEDUC2x')['BPXSY1'].mean().plot(kind='barh', rot=45, fontsize=10, figsize=(8, 6))"
   ]
  },
  {
   "cell_type": "markdown",
   "metadata": {
    "id": "Q9sBFjI5lHZM"
   },
   "source": [
    "## 3.1. Gráfico de barras multivariable"
   ]
  },
  {
   "cell_type": "code",
   "execution_count": null,
   "metadata": {
    "colab": {
     "base_uri": "https://localhost:8080/"
    },
    "id": "0j1QAeCShYpb",
    "outputId": "99ab53cc-92cf-4f6f-8f68-fcb6a7d2a09d"
   },
   "outputs": [],
   "source": [
    "# Agrupamos lass columnas: peso, altura e índice de masa corporal por origen étnico y calculamos la media\n",
    "df_bmx = df.groupby('RIDRETH1')['BMXWT', 'BMXHT', 'BMXBMI'].mean().reset_index()\n",
    "df_bmx.head()\n"
   ]
  },
  {
   "cell_type": "markdown",
   "metadata": {
    "id": "GuJ69BRn6pfe"
   },
   "source": [
    "Para saber más sobre la función en Pandas `.reset_index()` consúltese: [Pandas reset index – How to reset the index and convert the index to a column?](https://www.machinelearningplus.com/pandas/pandas-reset-index/)"
   ]
  },
  {
   "cell_type": "code",
   "execution_count": null,
   "metadata": {
    "colab": {
     "base_uri": "https://localhost:8080/",
     "height": 294
    },
    "id": "qei0d45nhk28",
    "outputId": "d3161de6-abfc-4f43-d503-784b5e28992b"
   },
   "outputs": [],
   "source": [
    "# Ploteamos el gráfico de barras con varias variables\n",
    "df_bmx.plot(x = 'RIDRETH1', \n",
    "            y=['BMXWT', 'BMXHT', 'BMXBMI'], \n",
    "            kind = 'bar', \n",
    "            color = ['lightblue', 'red', 'yellow'], \n",
    "            fontsize=12)"
   ]
  },
  {
   "cell_type": "code",
   "execution_count": null,
   "metadata": {
    "colab": {
     "base_uri": "https://localhost:8080/",
     "height": 294
    },
    "id": "e1VyOIbhhpG9",
    "outputId": "459c6a2b-0fab-4d98-be70-4ae147ebbd89"
   },
   "outputs": [],
   "source": [
    "# El mismo gráfico pero apilado\n",
    "df_bmx.plot(x = 'RIDRETH1', \n",
    "            y=['BMXWT', 'BMXHT', 'BMXBMI'], \n",
    "            kind = 'barh', stacked=True,\n",
    "            color = ['lightblue', 'red', 'yellow'], \n",
    "            fontsize=10)"
   ]
  },
  {
   "cell_type": "markdown",
   "metadata": {
    "id": "jMdjfY8e6Gsu"
   },
   "source": [
    "# 4.Pie chart"
   ]
  },
  {
   "cell_type": "code",
   "execution_count": null,
   "metadata": {
    "colab": {
     "base_uri": "https://localhost:8080/"
    },
    "id": "8Cce-69ThtZS",
    "outputId": "38aa2e90-74b5-4eab-b364-1da7636a5cfc"
   },
   "outputs": [],
   "source": [
    "# Agrupamos el estado civil por nivel educativo y contamos la población en cada grupo por estado civil según nivel educativo\n",
    "df_edu_marit = df.groupby('DMDEDUC2x')['DMDMARTL'].count()\n",
    "pd.Series(df_edu_marit)"
   ]
  },
  {
   "cell_type": "code",
   "execution_count": null,
   "metadata": {
    "colab": {
     "base_uri": "https://localhost:8080/",
     "height": 357
    },
    "id": "GZYi1Zw4hxAH",
    "outputId": "65e0588f-ac83-441f-9ff4-831af02e26ca"
   },
   "outputs": [],
   "source": [
    "# Ploteamos un gráfico de tarta utilizando una Serie de Pandas\n",
    "ax = pd.Series(df_edu_marit).plot.pie(subplots=True, label='',\n",
    "     labels = ['College Education', 'high school', \n",
    "     'less than high school', 'Some college',\n",
    "     'HS/GED', 'Unknown'],\n",
    "     figsize = (8, 6),\n",
    "     colors = ['lightgreen', 'violet', 'coral', 'skyblue', 'yellow', 'purple'],\n",
    "     autopct = '%.2f')"
   ]
  },
  {
   "cell_type": "markdown",
   "metadata": {
    "id": "Se1b7RTF-hp1"
   },
   "source": [
    "# 5.Boxplot"
   ]
  },
  {
   "cell_type": "code",
   "execution_count": null,
   "metadata": {
    "colab": {
     "base_uri": "https://localhost:8080/",
     "height": 446
    },
    "id": "quDXewgqiJcl",
    "outputId": "80587d66-5963-487b-9b13-c3ededa56086"
   },
   "outputs": [],
   "source": [
    "# Plotear un Boxplot\n",
    "color = {'boxes': 'DarkBlue', 'whiskers': 'coral', \n",
    "         'medians': 'Black', 'caps': 'Green'}\n",
    "df[['BMXBMI', 'BMXLEG', 'BMXARML']].plot.box(figsize=(8, 6),color=color)"
   ]
  },
  {
   "cell_type": "markdown",
   "metadata": {
    "id": "hFRqtBjBCc8T"
   },
   "source": [
    "- **Boxes (cajas):** el cuerpo principal del boxplot que muestra los cuartiles y los intervalos de confianza de la mediana, si están activados.\n",
    "- **Medians (medianas):** líneas horizontales en la mediana de cada caja.\n",
    "- **Whiskers (bigotes):** las líneas verticales que se extienden hasta los puntos de datos más extremos y no atípicos.\n",
    "- **Caps (topes):** las líneas horizontales en los extremos de los bigotes.\n",
    "- **Means (volantes):** puntos que representan los datos que se extienden más allá de los bigotes (volantes)."
   ]
  },
  {
   "cell_type": "markdown",
   "metadata": {
    "id": "QqR1EHLe-7xr"
   },
   "source": [
    "# 6.Gráfico de dispersión"
   ]
  },
  {
   "cell_type": "code",
   "execution_count": null,
   "metadata": {
    "colab": {
     "base_uri": "https://localhost:8080/",
     "height": 296
    },
    "id": "NgCF8-PfiM2n",
    "outputId": "b81a540c-0aff-49e6-9be5-e35e7410fae9"
   },
   "outputs": [],
   "source": [
    "# Ploteo de gráfico de dispersión simple con dos variables y 300 datos\n",
    "df.head(300).plot(x='BMXBMI', y= 'BPXSY1', kind = 'scatter')"
   ]
  },
  {
   "cell_type": "code",
   "execution_count": null,
   "metadata": {
    "colab": {
     "base_uri": "https://localhost:8080/",
     "height": 378
    },
    "id": "nv9EEZ_giQMV",
    "outputId": "a9fd6cab-653b-444e-bb60-44ee9a91c429"
   },
   "outputs": [],
   "source": [
    "# Ploteo de gráfico de dispersión custom con 3 variables\n",
    "df.head(500).plot.scatter(x= 'BMXWT', y = 'BMXHT', c ='BMXLEG', colormap='viridis', figsize=(8, 6))"
   ]
  },
  {
   "cell_type": "markdown",
   "metadata": {
    "id": "Ivb9udv5xRyx"
   },
   "source": [
    "**Lectura recomendada:** [Escoger mapas de colores en Matplotlib](https://matplotlib.org/stable/tutorials/colors/colormaps.html)"
   ]
  },
  {
   "cell_type": "code",
   "execution_count": null,
   "metadata": {
    "colab": {
     "base_uri": "https://localhost:8080/",
     "height": 406
    },
    "id": "u8SEygXxiTFt",
    "outputId": "76315a22-82a5-4630-b9b5-c6c58a8fe7d6"
   },
   "outputs": [],
   "source": [
    "# Gráfico de dispersión con burbujas \n",
    "df.head(200).plot.scatter(x= 'BMXHT', y = 'BMXWT', \n",
    "                          s =df['BMXBMI'][:200] * 7, \n",
    "                          alpha=0.5, color='purple',\n",
    "                         figsize=(8, 6))"
   ]
  },
  {
   "cell_type": "markdown",
   "metadata": {
    "id": "U6-amTdTNu4y"
   },
   "source": [
    "**Lectura complementaria:** [Cómo establecer el tamaño del marcador de la gráfica de dispersión en Matplotlib](https://www.delftstack.com/es/howto/matplotlib/how-to-set-marker-size-of-scatter-plot-in-matplotlib/)"
   ]
  },
  {
   "cell_type": "markdown",
   "metadata": {
    "id": "BbUgSvaeKHKC"
   },
   "source": [
    "# 7.Hexbin"
   ]
  },
  {
   "cell_type": "code",
   "execution_count": null,
   "metadata": {
    "colab": {
     "base_uri": "https://localhost:8080/",
     "height": 271
    },
    "id": "C3PY1Z6xiWUj",
    "outputId": "442e6943-0ab0-4d91-c639-6fb3b551c792"
   },
   "outputs": [],
   "source": [
    "# Hexbin básico con dos variables\n",
    "df.plot.hexbin(x='BMXARMC', y='BMXLEG', gridsize= 20)"
   ]
  },
  {
   "cell_type": "code",
   "execution_count": null,
   "metadata": {
    "colab": {
     "base_uri": "https://localhost:8080/",
     "height": 379
    },
    "id": "448XXCZ0iZzQ",
    "outputId": "c360fb58-7aa5-41c1-ef5b-e7e1e06b69de"
   },
   "outputs": [],
   "source": [
    "# Hexbin con el parametro 'C' especificado\n",
    "df.plot.hexbin(x='BMXARMC', y='BMXLEG', C = 'BMXHT',\n",
    "reduce_C_function=np.max, gridsize=15,figsize=(8,6))"
   ]
  },
  {
   "cell_type": "code",
   "execution_count": null,
   "metadata": {
    "colab": {
     "base_uri": "https://localhost:8080/",
     "height": 379
    },
    "id": "5azpUQvxivjh",
    "outputId": "0c43d7ba-37d3-4397-9e77-a07e2db46f7c"
   },
   "outputs": [],
   "source": [
    "# El mismo Hexbin con el parametro cmap\n",
    "df.plot.hexbin(x='BMXARMC', y='BMXLEG', C = 'BMXHT',\n",
    "reduce_C_function=np.max, gridsize=15, figsize=(8,6), cmap = 'viridis')"
   ]
  },
  {
   "cell_type": "markdown",
   "metadata": {
    "id": "5MIx810Jz4XT"
   },
   "source": [
    "# 8.Visualizaciones avanzadas"
   ]
  },
  {
   "cell_type": "markdown",
   "metadata": {
    "id": "nrVLVaoO4yz2"
   },
   "source": [
    "## 8.1. Matriz de dispersión\n",
    "La función `pandas.plotting.scatter_mattrix` muestra una matriz de gráficos de dispersión cruzando las características cuantitativas del dataframe indicado."
   ]
  },
  {
   "cell_type": "code",
   "execution_count": null,
   "metadata": {
    "colab": {
     "base_uri": "https://localhost:8080/",
     "height": 955
    },
    "id": "tEXsFfYui8F3",
    "outputId": "63c0999e-48ee-4529-b183-df21abe68968"
   },
   "outputs": [],
   "source": [
    "# Importamos libreria para plotear una matrix de dispersión\n",
    "\n",
    "from pandas.plotting import scatter_matrix\n",
    "\n",
    "scatter_matrix(df[['BMXWT', 'BMXHT', 'BMXBMI', 'BMXLEG', 'BMXARML']], alpha = 0.2, figsize=(10, 8), diagonal = 'kde')"
   ]
  },
  {
   "cell_type": "markdown",
   "metadata": {
    "id": "ttgbuPVr43t8"
   },
   "source": [
    "## 8.2. Gráficos de densidad (KDE)"
   ]
  },
  {
   "cell_type": "code",
   "execution_count": null,
   "metadata": {
    "colab": {
     "base_uri": "https://localhost:8080/",
     "height": 282
    },
    "id": "km5Nn711jDSj",
    "outputId": "e78e939a-935f-4ec9-d1ac-5f54cf09971f"
   },
   "outputs": [],
   "source": [
    "# Distribución de probabilidad de la variable 'peso' ('BMXWT')\n",
    "df['BMXWT'].plot.kde()"
   ]
  },
  {
   "cell_type": "code",
   "execution_count": null,
   "metadata": {
    "colab": {
     "base_uri": "https://localhost:8080/",
     "height": 391
    },
    "id": "aaepvZlfjGTw",
    "outputId": "7e2f8729-cb83-4b27-cd05-1d58c09083c1"
   },
   "outputs": [],
   "source": [
    "# Ploteo de una distribución de probabilidad de la altura (BMXHT), el peso (BMXWT) y el IMC (BMXBMI)\n",
    "df[['BMXWT', 'BMXHT', 'BMXBMI']].plot.kde(figsize = (8, 6))"
   ]
  },
  {
   "cell_type": "markdown",
   "metadata": {
    "id": "f27RyGnS9Uom"
   },
   "source": [
    "**Lectura recomendada:** [Cómo Usar Paréntesis ( ), Corchetes [ ] y Llaves { } en Python](https://www.codigopiton.com/parentesis-corchetes-llaves-en-python/)"
   ]
  },
  {
   "cell_type": "markdown",
   "metadata": {
    "id": "eUxM0R3V7ss_"
   },
   "source": [
    "## 8.3. Coordenadas paralelas\n",
    "\n",
    "La función `pandas.plotting.parallel_coordinates` implementa el gráfico de coordenadas paralelas, útil para trazar datos numéricos multivariados y comparar variables y sus relaciones.\n",
    "\n",
    "En una gráfica de coordenadas paralelas, a cada variable se le asigna un eje y todos los ejes se colocan paralelos entre sí. Cada eje puede tener una escala diferente, ya que cada variable trabaja con una unidad de medida diferente, o todos los ejes pueden normalizarse para mantener todas las escalas uniformes. Los valores se trazan como una serie de líneas que están conectadas en todos los ejes. Esto significa que cada línea es una colección de puntos colocados en cada eje, que han sido conectados.\n",
    "\n",
    "El orden en que se organizan los ejes puede afectar la forma en que el lector entiende los datos. Una razón de esto es que las relaciones entre variables adyacentes son más fáciles de percibir que las de variables no adyacentes. Por lo tanto, reordenar los ejes puede ayudar a descubrir patrones o correlaciones entre variables.\n",
    "\n",
    "La desventaja de los gráficos de coordenadas paralelas es que pueden abarrotarse demasiado y, por lo tanto, ser ilegibles cuando son muy densos en datos. La mejor manera de remediar este problema es a través de la interactividad y una técnica conocida como “cepillado”. El cepillado resalta una línea seleccionada o una colección de líneas mientras desvanece todas las demás. Esto le permite aislar secciones de la trama que le interesan mientras filtra el ruido.\n",
    "\n",
    "![](https://datavizcatalogue.com/methods/images/top_images/SVG/parallel_coordinates.svg)"
   ]
  },
  {
   "cell_type": "code",
   "execution_count": null,
   "metadata": {
    "colab": {
     "base_uri": "https://localhost:8080/",
     "height": 284
    },
    "id": "xWXplbn_jJ2H",
    "outputId": "2b6c69ac-7337-406c-ca7e-d7ec600cc1b8"
   },
   "outputs": [],
   "source": [
    "# Importar libreria y plotear coordenadas paralelas\n",
    "\n",
    "from pandas.plotting import parallel_coordinates\n",
    "\n",
    "parallel_coordinates(df[['BMXWT', 'BMXHT', 'BMXBMI', 'RIAGENDR']].dropna().head(200), 'RIAGENDR', color=['blue', 'violet'])"
   ]
  },
  {
   "cell_type": "markdown",
   "metadata": {
    "id": "WLnfotlpB5Rg"
   },
   "source": [
    "**Véase:** [pandas.plotting.parallel_coordinates](https://pandas.pydata.org/docs/reference/api/pandas.plotting.parallel_coordinates.html)"
   ]
  },
  {
   "cell_type": "markdown",
   "metadata": {
    "id": "WDxbFQYcA27Z"
   },
   "source": [
    "## 8.4. Gráfico bootstrap\n",
    "\n",
    "El diagrama de bootstrap se utiliza para estimar la incertidumbre de una estadística basándose en un muestreo aleatorio con reemplazo. Esta función generará diagramas de bootstrap para estadísticas medias, medianas y de rango medio para el número dado de muestras del tamaño dado.\n",
    "Para generar una estimación de incertidumbre de bootstrap para una estadística determinada a partir de un conjunto de datos, se genera a partir de los datos una submuestra de un tamaño inferior o igual al tamaño del conjunto de datos y se calcula la estadística. Esta submuestra se genera con reemplazo para que cualquier punto de datos pueda muestrearse varias veces o no muestrearse en absoluto. Este proceso se repite para muchas submuestras, generalmente entre 500 y 1000. Los valores calculados para la estadística forman una estimación de la distribución de muestreo de la estadística.\n",
    "\n",
    "Por ejemplo, para estimar la incertidumbre de la mediana a partir de un conjunto de datos con 50 elementos, generamos una submuestra de 50 elementos y calculamos la mediana. Esto se repite al menos 500 veces para que tengamos al menos 500 valores para la mediana. Aunque el número de muestras de arranque a utilizar es algo arbitrario, 500 submuestras suelen ser suficientes. Para calcular un intervalo de confianza del 90 % para la mediana, las medianas de la muestra se clasifican en orden ascendente y el valor de la mediana 25 (suponiendo que se tomaron exactamente 500 submuestras) es el límite de confianza inferior, mientras que el valor de la mediana 475 (suponiendo exactamente 500 submuestras) es el límite de confianza inferior. se tomaron las submuestras) es el límite de confianza superior."
   ]
  },
  {
   "cell_type": "code",
   "execution_count": null,
   "metadata": {
    "colab": {
     "base_uri": "https://localhost:8080/",
     "height": 577
    },
    "id": "SkHS5aZsjPz0",
    "outputId": "2b8ee81f-6c19-4b6e-ea65-d2678e785359"
   },
   "outputs": [],
   "source": [
    "# Importamos libreria y ploteamos un gráfico bootstrap\n",
    "from pandas.plotting import bootstrap_plot\n",
    "\n",
    "bootstrap_plot(df['BMXBMI'], size=100, samples=1000, color='red')"
   ]
  },
  {
   "cell_type": "markdown",
   "metadata": {
    "id": "9rQ_jfDhPk9i"
   },
   "source": [
    "**Para saber más véase:** [Bootstrap Plot](https://www.itl.nist.gov/div898/handbook/eda/section3/eda334.htm)"
   ]
  },
  {
   "cell_type": "markdown",
   "metadata": {
    "id": "eN-4dGszdEfx"
   },
   "source": [
    "# **Fuente**\n",
    "[A Complete Cheat Sheet For Data Visualization in Pandas](https://regenerativetoday.com/a-complete-cheat-sheet-for-data-visualization-in-pandas/)"
   ]
  }
 ],
 "metadata": {
  "colab": {
   "name": "Lab_32_DataViz_Pandas.ipynb",
   "provenance": []
  },
  "kernelspec": {
   "display_name": "Python 3 (ipykernel)",
   "language": "python",
   "name": "python3"
  },
  "language_info": {
   "codemirror_mode": {
    "name": "ipython",
    "version": 3
   },
   "file_extension": ".py",
   "mimetype": "text/x-python",
   "name": "python",
   "nbconvert_exporter": "python",
   "pygments_lexer": "ipython3",
   "version": "3.10.9"
  }
 },
 "nbformat": 4,
 "nbformat_minor": 4
}
