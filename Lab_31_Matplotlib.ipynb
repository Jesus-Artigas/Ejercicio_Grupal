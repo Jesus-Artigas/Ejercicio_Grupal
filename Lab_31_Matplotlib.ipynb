{
 "cells": [
  {
   "cell_type": "markdown",
   "metadata": {
    "id": "2UJoJUk73pqu"
   },
   "source": [
    "# 1.Limpieza y transformación del Data Frame"
   ]
  },
  {
   "cell_type": "code",
   "execution_count": null,
   "metadata": {
    "colab": {
     "base_uri": "https://localhost:8080/",
     "height": 357
    },
    "id": "g6FGWX7Fp1JK",
    "outputId": "10574f49-f341-4981-f4c0-9bfc9ab647e5"
   },
   "outputs": [],
   "source": [
    "# Importar librerias y leer el dataset\n",
    "import numpy as np  \n",
    "import pandas as pd\n",
    "df = pd.read_excel('https://s3-api.us-geo.objectstorage.softlayer.net/cf-courses-data/CognitiveClass/DV0101EN/labs/Data_Files/Canada.xlsx',\n",
    "                       sheet_name='Canada by Citizenship',\n",
    "                       skiprows=range(20),\n",
    "                       skipfooter=2)\n",
    "df.head()"
   ]
  },
  {
   "cell_type": "markdown",
   "metadata": {
    "id": "e8TCD7gt-amD"
   },
   "source": [
    "## 1.1. Drop"
   ]
  },
  {
   "cell_type": "code",
   "execution_count": null,
   "metadata": {
    "colab": {
     "base_uri": "https://localhost:8080/",
     "height": 357
    },
    "id": "clwL77F3qqJK",
    "outputId": "55055efd-ac8e-4ce7-cefb-2dfbc42c6b3f"
   },
   "outputs": [],
   "source": [
    "# Descartamos del análisis algunas columnas\n",
    "df.drop(['AREA','REG','DEV','Type','Coverage'], axis=1, inplace=True)\n",
    "df.head()"
   ]
  },
  {
   "cell_type": "markdown",
   "metadata": {
    "id": "-0XnhAlh-d0Y"
   },
   "source": [
    "## 1.2. Rename"
   ]
  },
  {
   "cell_type": "code",
   "execution_count": null,
   "metadata": {
    "colab": {
     "base_uri": "https://localhost:8080/",
     "height": 357
    },
    "id": "wBCoda2LudMR",
    "outputId": "1a405440-f719-403f-fee4-e59fca35bed6"
   },
   "outputs": [],
   "source": [
    "# Renombramos algunas columnas y validamos el resultado\n",
    "df.rename(columns={'OdName':'Country', 'AreaName':'Continent', 'RegName':'Region'}, inplace=True)\n",
    "df.head()"
   ]
  },
  {
   "cell_type": "markdown",
   "metadata": {
    "id": "7WmLLEYH-h-5"
   },
   "source": [
    "## 1.3. Añadir una columna con la suma total"
   ]
  },
  {
   "cell_type": "code",
   "execution_count": null,
   "metadata": {
    "colab": {
     "base_uri": "https://localhost:8080/",
     "height": 391
    },
    "id": "AGyP1e1Vuonm",
    "outputId": "c1d682e1-12dd-4c17-be1a-db9b8c80981f"
   },
   "outputs": [],
   "source": [
    "# Añadimos una columna “Total\" que mostrará el total de inmigrantes que entraron en Canadá de 1980 a 2013 procedentes de cada país\n",
    "df['Total'] = df.sum(axis=1)\n",
    "df.head()"
   ]
  },
  {
   "cell_type": "markdown",
   "metadata": {
    "id": "9SZz7Nza-tCi"
   },
   "source": [
    "## 1.4. Establecer una columna como índice"
   ]
  },
  {
   "cell_type": "code",
   "execution_count": null,
   "metadata": {
    "id": "KldUgqjNyJ4A"
   },
   "outputs": [],
   "source": [
    "# Establecemos la columna \"Country\" como índice\n",
    "df = df.set_index(\"Country\")"
   ]
  },
  {
   "cell_type": "code",
   "execution_count": null,
   "metadata": {},
   "outputs": [],
   "source": [
    "df"
   ]
  },
  {
   "cell_type": "markdown",
   "metadata": {
    "id": "Xl1vgOk43xF7"
   },
   "source": [
    "# 2.Ejercicios de ploteo"
   ]
  },
  {
   "cell_type": "code",
   "execution_count": null,
   "metadata": {
    "id": "ZowQS8WR2nxW"
   },
   "outputs": [],
   "source": [
    "# Importamos librerias de ploteo\n",
    "%matplotlib inline\n",
    "import matplotlib.pyplot as plt\n",
    "import matplotlib as mpl"
   ]
  },
  {
   "cell_type": "code",
   "execution_count": null,
   "metadata": {
    "colab": {
     "base_uri": "https://localhost:8080/"
    },
    "id": "e2F2xhOu7iQ3",
    "outputId": "5b0de723-b2b7-46e6-a99a-f143426869ac"
   },
   "outputs": [],
   "source": [
    "# Estilos de ploteo disponibles en Matplotlib\n",
    "plt.style.available"
   ]
  },
  {
   "cell_type": "markdown",
   "metadata": {
    "id": "0jG8Qtf39daC"
   },
   "source": [
    "**Véase:** [Style sheets reference](https://matplotlib.org/stable/gallery/style_sheets/style_sheets_reference.html)"
   ]
  },
  {
   "cell_type": "markdown",
   "metadata": {},
   "source": [
    "## GGPLOT\n",
    "Gracias a su estricta implementación de la gramática de los gráficos, ggplot2 proporciona una forma extremadamente intuitiva y consistente de graficar sus datos. El enfoque de ggplot2 para el trazado no solo garantiza que cada gráfico comprenda ciertos elementos básicos, sino que también simplifica en gran medida la legibilidad de su código.\n",
    "Sin embargo, si usted es un usuario frecuente de Python, implementar la gramática de los gráficos puede ser extremadamente desafiante debido a la falta de sintaxis estandarizada en las bibliotecas de gráficos populares, como matplotlib o seaborn."
   ]
  },
  {
   "cell_type": "code",
   "execution_count": null,
   "metadata": {
    "id": "GEelkcKc8NG0"
   },
   "outputs": [],
   "source": [
    "# Seleccionamos el estilo 'ggplot'\n",
    "mpl.style.use(['ggplot'])"
   ]
  },
  {
   "cell_type": "markdown",
   "metadata": {
    "id": "kbyqNOsx9zsw"
   },
   "source": [
    "## 2.1. Gráfico de líneas"
   ]
  },
  {
   "cell_type": "code",
   "execution_count": null,
   "metadata": {
    "id": "B74gw8mR8QwQ"
   },
   "outputs": [],
   "source": [
    "# Creamos una lista de los años 1980 a 2013\n",
    "years = list(map(int, range(1980, 2014)))"
   ]
  },
  {
   "cell_type": "code",
   "execution_count": null,
   "metadata": {
    "colab": {
     "base_uri": "https://localhost:8080/"
    },
    "id": "Qot3fNbL_Pj9",
    "outputId": "2d42d245-d6c0-49b5-a02c-24b0416d1487"
   },
   "outputs": [],
   "source": [
    "# Preparamos los datos de inmigración de Suiza y sus años\n",
    "df.loc['Switzerland', years]"
   ]
  },
  {
   "cell_type": "code",
   "execution_count": null,
   "metadata": {
    "colab": {
     "base_uri": "https://localhost:8080/",
     "height": 299
    },
    "id": "O4JjI9FkBDrN",
    "outputId": "ce35cc9d-3784-405b-ed66-75ad4737ef4a"
   },
   "outputs": [],
   "source": [
    "# Trazamos nuestro gráfico de línea\n",
    "df.loc['Switzerland', years].plot()\n",
    "plt.title('Immigration from Switzerland')\n",
    "plt.ylabel('Number of immigrants')\n",
    "plt.xlabel('Years')\n",
    "plt.show()"
   ]
  },
  {
   "cell_type": "code",
   "execution_count": null,
   "metadata": {
    "colab": {
     "base_uri": "https://localhost:8080/",
     "height": 238
    },
    "id": "mGXLomuMCVHV",
    "outputId": "ff62192a-7ff3-4e27-ac4e-e534d1bc8d95"
   },
   "outputs": [],
   "source": [
    "# Creamos un DF con la India, Pakistan y Bangladesh\n",
    "ind_pak_ban = df.loc[['India', 'Pakistan', 'Bangladesh'], years]\n",
    "ind_pak_ban.head()"
   ]
  },
  {
   "cell_type": "code",
   "execution_count": null,
   "metadata": {
    "colab": {
     "base_uri": "https://localhost:8080/",
     "height": 1000
    },
    "id": "1AZGvAQ2D7a2",
    "outputId": "561c8654-c9ed-4983-f631-62f87acbd6fa"
   },
   "outputs": [],
   "source": [
    "# Transponemos el DF\n",
    "ind_pak_ban.T"
   ]
  },
  {
   "cell_type": "code",
   "execution_count": null,
   "metadata": {
    "colab": {
     "base_uri": "https://localhost:8080/",
     "height": 282
    },
    "id": "RX8o5d6wEotH",
    "outputId": "5d0b90b0-7561-4673-bad9-adc202cc535d"
   },
   "outputs": [],
   "source": [
    "# Trazamos directamente nuestro gráfico de líneas\n",
    "ind_pak_ban.T.plot()"
   ]
  },
  {
   "cell_type": "markdown",
   "metadata": {
    "id": "zAy-dolyGpzr"
   },
   "source": [
    "## 2.2. Pie chart"
   ]
  },
  {
   "cell_type": "code",
   "execution_count": null,
   "metadata": {
    "id": "fgdO9EWMGyO5"
   },
   "outputs": [],
   "source": [
    "# 'cont' es la suma de inmigrantes agrupados por cada continente\n",
    "cont = df.groupby('Continent', axis=0).sum()\n",
    "cont"
   ]
  },
  {
   "cell_type": "code",
   "execution_count": null,
   "metadata": {
    "colab": {
     "base_uri": "https://localhost:8080/",
     "height": 434
    },
    "id": "VkAykYpuOXlN",
    "outputId": "a5f70614-588f-41f7-9ef8-261a29e16667"
   },
   "outputs": [],
   "source": [
    "# Trazamos el gráfico de tarta\n",
    "cont['Total'].plot(kind='pie', figsize=(7,7),\n",
    "                  autopct='%1.1f%%',\n",
    "                  shadow=True)\n",
    "plt.title('Immigration By Continents')\n",
    "plt.axis('equal')\n",
    "plt.show()"
   ]
  },
  {
   "cell_type": "markdown",
   "metadata": {
    "id": "dL404GhNPH9A"
   },
   "source": [
    "**Véase:** [Equal axis aspect ratio](https://matplotlib.org/stable/gallery/subplots_axes_and_figures/axis_equal_demo.html)"
   ]
  },
  {
   "cell_type": "code",
   "execution_count": null,
   "metadata": {
    "colab": {
     "base_uri": "https://localhost:8080/",
     "height": 583
    },
    "id": "c4KfSkwdPVoh",
    "outputId": "b18c5b05-69e6-444f-a491-ee236370dd5b"
   },
   "outputs": [],
   "source": [
    "# Versión customizada de nuestra figura\n",
    "colors = ['gold', 'purple', 'blue', 'green', 'grey', 'orange']\n",
    "explode=[0.1, 0, 0, 0, 0.1, 0.1]\n",
    "cont['Total'].plot(kind='pie', figsize=(17, 10),\n",
    "                  autopct = '%1.1f%%', startangle=90,\n",
    "                  shadow=False, labels=None, pctdistance=1.12, colors=colors, explode = explode)\n",
    "plt.axis('equal')\n",
    "plt.legend(labels=cont.index, loc='upper left', fontsize=10)\n",
    "plt.show()"
   ]
  },
  {
   "cell_type": "markdown",
   "metadata": {
    "id": "t31X8qorhkc5"
   },
   "source": [
    "**Véase:** [List of named colors](https://matplotlib.org/stable/gallery/color/named_colors.html)"
   ]
  },
  {
   "cell_type": "markdown",
   "metadata": {
    "id": "2bhvzzGBjFQp"
   },
   "source": [
    "## 2.3. Boxplot"
   ]
  },
  {
   "cell_type": "code",
   "execution_count": null,
   "metadata": {
    "id": "N6mC5EO3hk0l"
   },
   "outputs": [],
   "source": [
    "# Creamos un DF con el número de inmigrantes de China\n",
    "china = df.loc[['China'], years].T\n",
    "china"
   ]
  },
  {
   "cell_type": "code",
   "execution_count": null,
   "metadata": {
    "colab": {
     "base_uri": "https://localhost:8080/",
     "height": 391
    },
    "id": "3niVZf3BjtF2",
    "outputId": "768eeac0-5d23-4dd1-b5c7-1bb3dbd24f97"
   },
   "outputs": [],
   "source": [
    "# Trazamos nuestro boxplot\n",
    "china.plot(kind='line', figsize=(8, 6))\n",
    "plt.title('Box plot of Chinese Immigrants')\n",
    "plt.ylabel('Number of Immigrants')\n",
    "plt.show()"
   ]
  },
  {
   "cell_type": "code",
   "execution_count": null,
   "metadata": {
    "colab": {
     "base_uri": "https://localhost:8080/",
     "height": 462
    },
    "id": "dChUbYJDmrvX",
    "outputId": "b32d55b3-9500-49f2-9605-a73ec108a41e"
   },
   "outputs": [],
   "source": [
    "# Usando el DF 'ind_pak_ban' adaptamos el boxplot al número de inmigrantes de India, Pakistán y Bangladesh\n",
    "ind_pak_ban.T.plot(kind='box', figsize=(8, 7))\n",
    "plt.title('Box plots of India, Pakistan and Bangladesh Immigrants')\n",
    "plt.ylabel('Number of Immigrants')"
   ]
  },
  {
   "cell_type": "markdown",
   "metadata": {
    "id": "zgHfeM1Dnzju"
   },
   "source": [
    "## 2.4. Gráfico de dispersión"
   ]
  },
  {
   "cell_type": "code",
   "execution_count": null,
   "metadata": {
    "colab": {
     "base_uri": "https://localhost:8080/",
     "height": 206
    },
    "id": "YIsJ8E9zn-B6",
    "outputId": "9a1684e6-37a2-4cb0-80c8-2bc0ccd27245"
   },
   "outputs": [],
   "source": [
    "# Crearemos un nuevo DataFrame que contendrá los años como índice y el número total de inmigrantes de cada año\n",
    "totalPerYear = pd.DataFrame(df[years].sum(axis=0))\n",
    "totalPerYear.head(10)"
   ]
  },
  {
   "cell_type": "code",
   "execution_count": null,
   "metadata": {
    "colab": {
     "base_uri": "https://localhost:8080/",
     "height": 206
    },
    "id": "I26lkVvHpWqP",
    "outputId": "d2ac1f61-f5b2-40a9-ffff-e07895ab06e5"
   },
   "outputs": [],
   "source": [
    "# Convertimos los años a enteros y le damos formato a nuestro DF\n",
    "totalPerYear.index = map(int, totalPerYear.index)\n",
    "totalPerYear.reset_index(inplace=True)\n",
    "totalPerYear.head()"
   ]
  },
  {
   "cell_type": "code",
   "execution_count": null,
   "metadata": {
    "colab": {
     "base_uri": "https://localhost:8080/",
     "height": 206
    },
    "id": "ar9FHTtdstY2",
    "outputId": "e583b708-3760-4920-cdb2-d04bb0a62820"
   },
   "outputs": [],
   "source": [
    "# Renombramos las columnas index a 'Year' y 0 a 'Total'\n",
    "totalPerYear.rename(columns={'index':'Year', 0:'Total'}, inplace=True)\n",
    "totalPerYear.head()"
   ]
  },
  {
   "cell_type": "code",
   "execution_count": null,
   "metadata": {
    "colab": {
     "base_uri": "https://localhost:8080/",
     "height": 408
    },
    "id": "km895VfAuqS_",
    "outputId": "0c765b2a-8b6e-492c-a0fd-efc5ad90b64c"
   },
   "outputs": [],
   "source": [
    "# Trazamos un gráfico de dispersión\n",
    "totalPerYear.plot(kind='scatter', x = 'Year', y='Total', figsize=(10, 6), color='darkred')\n",
    "plt.title('Total Immigration from 1980 - 2013')\n",
    "plt.xlabel('Year')\n",
    "plt.ylabel('Number of Immigrants')\n",
    "plt.show()"
   ]
  },
  {
   "cell_type": "markdown",
   "metadata": {
    "id": "0RBqUxBMw065"
   },
   "source": [
    "## 2.5. Gráfico de área"
   ]
  },
  {
   "cell_type": "code",
   "execution_count": null,
   "metadata": {
    "id": "CqmsU6VZw5Wr"
   },
   "outputs": [],
   "source": [
    "# Creamos un DF denominado 'top' con la India, China, Pakistan y Francia\n",
    "top = df.loc[['India', 'China', 'Pakistan', 'France'], years]\n",
    "top = top.T"
   ]
  },
  {
   "cell_type": "code",
   "execution_count": null,
   "metadata": {
    "colab": {
     "base_uri": "https://localhost:8080/",
     "height": 626
    },
    "id": "Iwjt9e4Xxm0B",
    "outputId": "b95b1319-81c9-40e1-bba5-e2539bde1053"
   },
   "outputs": [],
   "source": [
    "# Trazamos nuestro gráfico de área\n",
    "top.plot(kind='area', stacked=False, figsize=(20, 10))\n",
    "plt.title('Immigration trend')\n",
    "plt.ylabel('Number of Immigrants')\n",
    "plt.xlabel('Years')\n",
    "plt.show()"
   ]
  },
  {
   "cell_type": "markdown",
   "metadata": {
    "id": "fxYTNhfwGF5H"
   },
   "source": [
    "## 2.6. Histograma"
   ]
  },
  {
   "cell_type": "code",
   "execution_count": null,
   "metadata": {
    "colab": {
     "base_uri": "https://localhost:8080/",
     "height": 354
    },
    "id": "3GzuiS0nGY-8",
    "outputId": "fe031a92-e8b3-45ce-aa26-886234a0f16b"
   },
   "outputs": [],
   "source": [
    "# Graficamos un histograma para la variable año 2005\n",
    "df[2005].plot(kind='hist', figsize=(8,5))\n",
    "plt.title('Histogram of Immigration from 195 Countries in 2005')\n",
    "plt.ylabel('Number of Countries')\n",
    "plt.xlabel('Number of Immigrants')\n",
    "plt.show()"
   ]
  },
  {
   "cell_type": "code",
   "execution_count": null,
   "metadata": {
    "colab": {
     "base_uri": "https://localhost:8080/",
     "height": 299
    },
    "id": "ALVPQVZxIGhw",
    "outputId": "857dd8fb-5b1b-43ef-b6a4-8288416b7fbe"
   },
   "outputs": [],
   "source": [
    "# Utilizamos el DF 'top' con el plot anterior\n",
    "top.plot.hist()\n",
    "plt.title('Histogram of Immigration from Some Populous Countries')\n",
    "plt.ylabel('Number of Years')\n",
    "plt.xlabel('Number of Immigrants')\n",
    "plt.show()"
   ]
  },
  {
   "cell_type": "code",
   "execution_count": null,
   "metadata": {
    "colab": {
     "base_uri": "https://localhost:8080/",
     "height": 391
    },
    "id": "uMfrYM2FKJZi",
    "outputId": "c04ca1bd-cc41-43fc-e84e-ed0d6e531aae"
   },
   "outputs": [],
   "source": [
    "# Especificamos el número y los bordes de los bins\n",
    "count, bin_edges = np.histogram(top, 15)\n",
    "top.plot(kind = 'hist', figsize=(14, 6), bins=15, alpha=0.6, \n",
    "        xticks=bin_edges, color=colors)"
   ]
  },
  {
   "cell_type": "code",
   "execution_count": null,
   "metadata": {
    "colab": {
     "base_uri": "https://localhost:8080/",
     "height": 408
    },
    "id": "gaoIqEUoK4K0",
    "outputId": "66bb695d-d4c5-4c8e-fd48-3e7c23d2c8c0"
   },
   "outputs": [],
   "source": [
    "# Trazamos un histograma apilado\n",
    "top.plot(kind='hist',\n",
    "          figsize=(12, 6), \n",
    "          bins=15,\n",
    "          xticks=bin_edges,\n",
    "          color=colors,\n",
    "          stacked=True\n",
    "         )\n",
    "plt.title('Histogram of Immigration from Some Populous Countries')\n",
    "plt.ylabel('Number of Years')\n",
    "plt.xlabel('Number of Immigrants')\n",
    "plt.show()"
   ]
  },
  {
   "cell_type": "markdown",
   "metadata": {
    "id": "QIdXZIAVMVOZ"
   },
   "source": [
    "## 2.7. Gráfico de barras"
   ]
  },
  {
   "cell_type": "code",
   "execution_count": null,
   "metadata": {
    "colab": {
     "base_uri": "https://localhost:8080/",
     "height": 424
    },
    "id": "2pw4e6qBNF3i",
    "outputId": "e6528aac-eb8d-421e-80da-ff6bcaacb91b"
   },
   "outputs": [],
   "source": [
    "# Creamos un gráfico de barras con el número de inmigrantes procedentes de Francia por año\n",
    "france = df.loc['France', years]\n",
    "france.plot(kind='bar', figsize = (10, 6))\n",
    "plt.xlabel('Year')\n",
    "plt.xticks(rotation = 60)\n",
    "plt.ylabel('Number of immigrants') \n",
    "plt.title('Immigrants From France')\n",
    "plt.show()"
   ]
  },
  {
   "cell_type": "markdown",
   "metadata": {},
   "source": [
    "## Ejemplos usando annotate\n",
    "https://matplotlib.org/stable/tutorials/text/annotations.html#sphx-glr-tutorials-text-annotations-py"
   ]
  },
  {
   "cell_type": "code",
   "execution_count": null,
   "metadata": {
    "colab": {
     "base_uri": "https://localhost:8080/",
     "height": 424
    },
    "id": "KgR0TNkDP8gH",
    "outputId": "9be6652c-637d-41e0-9a9d-20fee8760b7f"
   },
   "outputs": [],
   "source": [
    "# Agregamos una anotación a nuestro gráfico\n",
    "france.plot(kind='bar', figsize = (10, 6))\n",
    "plt.xlabel('Year') \n",
    "plt.xticks(rotation = 60)\n",
    "plt.ylabel('Number of immigrants') \n",
    "plt.title('Immigrants From France')\n",
    "\n",
    "plt.annotate('Increasing Trend',\n",
    "            xy = (19, 4500),\n",
    "            rotation= 23,\n",
    "            va = 'bottom',\n",
    "            ha = 'left')\n",
    "plt.annotate('',\n",
    "            xy=(29, 5500),\n",
    "            xytext=(17, 3800),\n",
    "            xycoords='data',\n",
    "            arrowprops=dict(arrowstyle='->', connectionstyle='arc3', color='Blue', lw=1.5))\n",
    "plt.show()"
   ]
  },
  {
   "cell_type": "markdown",
   "metadata": {
    "id": "xue4j1DuQ1kN"
   },
   "source": [
    "**Documentación:**\n",
    "- [matplotlib.pyplot.annotate](https://matplotlib.org/stable/api/_as_gen/matplotlib.pyplot.annotate.html)\n",
    "- [Examples using matplotlib.pyplot.annotate](https://matplotlib.org/stable/tutorials/text/annotations.html#sphx-glr-tutorials-text-annotations-py)"
   ]
  },
  {
   "cell_type": "code",
   "execution_count": null,
   "metadata": {
    "colab": {
     "base_uri": "https://localhost:8080/",
     "height": 952
    },
    "id": "clf1AnTyT4cu",
    "outputId": "3bd1dfe7-9138-4b54-f8ae-9bd870f79d5e"
   },
   "outputs": [],
   "source": [
    "# Creamos un gráfico de barras horizontal \n",
    "france.plot(kind='barh', figsize=(12, 16), color='steelblue')\n",
    "plt.xlabel('Number of Immigrants')\n",
    "plt.ylabel('Year')\n",
    "plt.title('Immigrants From France')\n",
    "for index, value in enumerate(france):\n",
    "    label = format(int(value), ',')\n",
    "    plt.annotate(label, xy=(value-300, index-0.1), color='white')\n",
    "plt.show()"
   ]
  },
  {
   "cell_type": "markdown",
   "metadata": {
    "id": "h-MULsFSudwO"
   },
   "source": [
    "**Fuente:** [Start Using Matplotlib Today With This Basic Visualization](https://regenerativetoday.com/start-using-matplotlib-today-with-this-basic-visualization/)"
   ]
  }
 ],
 "metadata": {
  "colab": {
   "name": "Lab_31_Matplotlib_FULL.ipynb",
   "provenance": []
  },
  "kernelspec": {
   "display_name": "Python 3 (ipykernel)",
   "language": "python",
   "name": "python3"
  },
  "language_info": {
   "codemirror_mode": {
    "name": "ipython",
    "version": 3
   },
   "file_extension": ".py",
   "mimetype": "text/x-python",
   "name": "python",
   "nbconvert_exporter": "python",
   "pygments_lexer": "ipython3",
   "version": "3.10.9"
  }
 },
 "nbformat": 4,
 "nbformat_minor": 4
}
