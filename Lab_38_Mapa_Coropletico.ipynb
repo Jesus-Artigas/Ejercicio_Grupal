{
 "cells": [
  {
   "cell_type": "markdown",
   "metadata": {
    "id": "5g76-0TZD7SS"
   },
   "source": [
    "# Mapas Coropléticos\n",
    "\n",
    "Los mapas coropléticos, se caracterizan por usar sombreado, tintes o patrones, para mostrar las diferencias de un valor en proporción en una ubicación geográfica o región, es decir, muestran de manera rápida, las diferencias relativas a través de sombreados, que va del claro (valores menos frecuentes o inferiores) a oscuro (más frecuentes o superiores).\n",
    "\n",
    "Los mapas coropléticos son una excelente opción en los siguientes casos:\n",
    "- Para mostrar información cuantitativa en un mapa.\n",
    "- Para mostrar las relaciones y patrones espaciales.\n",
    "- Cuando los datos están normalizados.\n",
    "- Cuando se trabaja con datos socioeconómicos.\n",
    "- Cuando las regiones definidas son importantes.\n",
    "- Para obtener una visión general de la distribución en las ubicaciones geográfica."
   ]
  },
  {
   "cell_type": "markdown",
   "metadata": {
    "id": "2AygZrt9B734"
   },
   "source": [
    "## Uso de GeoJson\n",
    "\n",
    "Vamos a cargar un archivo GeoJSON que representa los estados de Estados Unidos."
   ]
  },
  {
   "cell_type": "code",
   "execution_count": null,
   "metadata": {
    "id": "wtC9W8dIkMvu"
   },
   "outputs": [],
   "source": [
    "import json\n",
    "\n",
    "import requests\n",
    "\n",
    "url = (\n",
    "    \"https://raw.githubusercontent.com/python-visualization/folium/main/examples/data\"\n",
    ")\n",
    "us_states = f\"{url}/us-states.json\"\n",
    "\n",
    "geo_json_data = json.loads(requests.get(us_states).text)"
   ]
  },
  {
   "cell_type": "markdown",
   "metadata": {
    "id": "mBfer_JtCXnY"
   },
   "source": [
    "Una primera forma de dibujarlo en un mapa, es simplemente utilizar `folium.GeoJson`"
   ]
  },
  {
   "cell_type": "code",
   "execution_count": null,
   "metadata": {
    "id": "CoF8qnr3kPt0"
   },
   "outputs": [],
   "source": [
    "# Alternativa visual 1\n",
    "\n",
    "import folium\n",
    "\n",
    "m = folium.Map([43, -100], width='50', height='50', zoom_start=4)\n",
    "\n",
    "folium.GeoJson(geo_json_data).add_to(m)\n",
    "\n",
    "m"
   ]
  },
  {
   "cell_type": "code",
   "execution_count": null,
   "metadata": {
    "id": "bs9MbI98Vw-t"
   },
   "outputs": [],
   "source": [
    "# Alternativa visual 2\n",
    "\n",
    "from branca.element import Figure\n",
    "\n",
    "fig = Figure(width=600, height=400)\n",
    "\n",
    "m = folium.Map([43, -100], zoom_start=4)\n",
    "\n",
    "folium.GeoJson(geo_json_data).add_to(m)\n",
    "\n",
    "fig.add_child(m)"
   ]
  },
  {
   "cell_type": "markdown",
   "metadata": {
    "id": "kHhOEEbXC0Hf"
   },
   "source": [
    "## Estilizar\n",
    "\n",
    "Puedes proporcionar una función de la forma `lambda feature {}` que establece el estilo de cada característica."
   ]
  },
  {
   "cell_type": "code",
   "execution_count": null,
   "metadata": {
    "id": "1TlnKOurkYLD"
   },
   "outputs": [],
   "source": [
    "m = folium.Map([43, -100], width='50', height='50', zoom_start=4)\n",
    "\n",
    "folium.GeoJson(\n",
    "    geo_json_data,\n",
    "    style_function=lambda feature: {\n",
    "        \"fillColor\": \"#ffff00\",\n",
    "        \"color\": \"black\",\n",
    "        \"weight\": 2,\n",
    "        \"dashArray\": \"10, 10\",\n",
    "    },\n",
    ").add_to(m)\n",
    "\n",
    "m"
   ]
  },
  {
   "cell_type": "markdown",
   "metadata": {
    "id": "qdxYW2WUIXU6"
   },
   "source": [
    "Por ejemplo, si quieres visualizar en verde todos los estados cuyo nombre contenga la letra \"E\", sólo tienes que hacerlo"
   ]
  },
  {
   "cell_type": "code",
   "execution_count": null,
   "metadata": {
    "id": "pLRAQrROlF7r"
   },
   "outputs": [],
   "source": [
    "m = folium.Map([43, -100], width='50', height='50', zoom_start=4)\n",
    "\n",
    "folium.GeoJson(\n",
    "    geo_json_data,\n",
    "    style_function=lambda feature: {\n",
    "        \"fillColor\": \"green\"\n",
    "        if \"e\" in feature[\"properties\"][\"name\"].lower()\n",
    "        else \"#ffff00\",\n",
    "        \"color\": \"black\",\n",
    "        \"weight\": 2,\n",
    "        \"dashArray\": \"5, 5\",\n",
    "    },\n",
    ").add_to(m)\n",
    "\n",
    "m"
   ]
  },
  {
   "cell_type": "markdown",
   "metadata": {
    "id": "VVbpg4GBInzA"
   },
   "source": [
    "Para poder decir que un mapa es coroplético, tenemos que calcular un color para cada estado.\n",
    "\n",
    "Imaginemos que queremos plotear un mapa coroplético del desempleo en los Estados Unidos. Primero, vamos a cargar los datos con el desempleo en los EE.UU. de octubre de 2012."
   ]
  },
  {
   "cell_type": "code",
   "execution_count": null,
   "metadata": {
    "id": "S8l4l3gKlSpb"
   },
   "outputs": [],
   "source": [
    "import pandas as pd\n",
    "\n",
    "US_Unemployment_Oct2012 = f\"{url}/US_Unemployment_Oct2012.csv\"\n",
    "unemployment = pd.read_csv(US_Unemployment_Oct2012)\n",
    "\n",
    "unemployment.head(5)"
   ]
  },
  {
   "cell_type": "markdown",
   "metadata": {
    "id": "1Tk5KOALJdYC"
   },
   "source": [
    "Ahora necesitamos crear una función que mapee un valor a un color RGB (de la forma `#RRGGBB`). Para ello, utilizaremos las herramientas de colormap de `folium.colormap`.\n",
    "\n",
    "Cuando se prefiere tener un conjunto continuo de colores. Esto se puede hacer mediante `Linear`. Por lo que Folium proporciona un (pequeño) conjunto de mapas de colores lineales incorporados, en `folium.colormap.linear`.\n",
    "\n",
    "Por supuesto, puede necesitar escalar los mapas de colores a sus límites. Esto se puede hacer con `.scale`."
   ]
  },
  {
   "cell_type": "code",
   "execution_count": null,
   "metadata": {
    "id": "ArYp5bl4lXiM"
   },
   "outputs": [],
   "source": [
    "from branca.colormap import linear\n",
    "\n",
    "colormap = linear.YlGn_09.scale(\n",
    "    unemployment.Unemployment.min(), unemployment.Unemployment.max()\n",
    ")\n",
    "\n",
    "print(colormap(5.0))\n",
    "\n",
    "colormap"
   ]
  },
  {
   "cell_type": "markdown",
   "metadata": {
    "id": "rC3aY-NGST_x"
   },
   "source": [
    "### Documentación: Colormap & colores\n",
    "- [HTML Color Codes](https://www.rapidtables.com/web/color/html-color-codes.html)\n",
    "- [Using folium.colormap](https://notebook.community/racu10/emapy/notebooks/Colormaps)\n",
    "- [branca.colormap](https://python-visualization.github.io/branca/colormap.html)\n",
    "- [ColorBrewer: Color Advice for Maps](https://colorbrewer2.org/#type=sequential&scheme=BuGn&n=3)"
   ]
  },
  {
   "cell_type": "markdown",
   "metadata": {
    "id": "jTRe9nqZNs02"
   },
   "source": [
    "También necesitamos convertir la tabla en un diccionario, para asignar una característica a su valor de desempleo."
   ]
  },
  {
   "cell_type": "code",
   "execution_count": null,
   "metadata": {
    "id": "qZwCV-WDlcMM"
   },
   "outputs": [],
   "source": [
    "unemployment_dict = unemployment.set_index(\"State\")[\"Unemployment\"]\n",
    "\n",
    "unemployment_dict[\"AL\"]"
   ]
  },
  {
   "cell_type": "markdown",
   "metadata": {
    "id": "vbS85vGZN2Bz"
   },
   "source": [
    "Ahora podemos crear el mapa coroplético."
   ]
  },
  {
   "cell_type": "code",
   "execution_count": null,
   "metadata": {
    "id": "3z7YQEaqlfCs"
   },
   "outputs": [],
   "source": [
    "m = folium.Map([43, -100], width='50', height='50', zoom_start=4)\n",
    "\n",
    "folium.GeoJson(\n",
    "    geo_json_data,\n",
    "    name=\"unemployment\",\n",
    "    style_function=lambda feature: {\n",
    "        \"fillColor\": colormap(unemployment_dict[feature[\"id\"]]),\n",
    "        \"color\": \"black\",\n",
    "        \"weight\": 1,\n",
    "        \"dashArray\": \"5, 5\",\n",
    "        \"fillOpacity\": 0.9,\n",
    "    },\n",
    ").add_to(m)\n",
    "\n",
    "folium.LayerControl().add_to(m)\n",
    "\n",
    "m"
   ]
  },
  {
   "cell_type": "code",
   "execution_count": null,
   "metadata": {
    "id": "mJEcjbMjligU"
   },
   "outputs": [],
   "source": [
    "# Creamos un diccionario con la escala de desempleo\n",
    "color_dict = {key: colormap(unemployment_dict[key]) for key in unemployment_dict.keys()}"
   ]
  },
  {
   "cell_type": "code",
   "execution_count": null,
   "metadata": {
    "id": "5b_JgrYHlqhW"
   },
   "outputs": [],
   "source": [
    "# Creamos un objeto que incorpora el diccionario anterior\n",
    "m = folium.Map([43, -100], width='50', height='50', zoom_start=4)\n",
    "\n",
    "folium.GeoJson(\n",
    "    geo_json_data,\n",
    "    style_function=lambda feature: {\n",
    "        \"fillColor\": color_dict[feature[\"id\"]],\n",
    "        \"color\": \"black\",\n",
    "        \"weight\": 1,\n",
    "        \"dashArray\": \"5, 5\",\n",
    "        \"fillOpacity\": 0.9,\n",
    "    },\n",
    ").add_to(m)"
   ]
  },
  {
   "cell_type": "code",
   "execution_count": null,
   "metadata": {
    "id": "GeKY12aClsrO"
   },
   "outputs": [],
   "source": [
    "# Visualizamos nuestro mapa con una leyenda con la escala de colores del mapa\n",
    "colormap.caption = \"Unemployment color scale\"\n",
    "colormap.add_to(m)\n",
    "\n",
    "m"
   ]
  },
  {
   "cell_type": "markdown",
   "metadata": {
    "id": "kByRNgrLBlvU"
   },
   "source": [
    "## Referencias\n",
    "- [GeoJSON and choropleth](https://github.com/python-visualization/folium/blob/main/examples/GeoJSON_and_choropleth.ipynb)\n",
    "- [Folium Documentation](https://python-visualization.github.io/folium/modules.html)"
   ]
  }
 ],
 "metadata": {
  "colab": {
   "name": "Lab_38_Mapa_Coropletico.ipynb",
   "provenance": []
  },
  "kernelspec": {
   "display_name": "Python 3 (ipykernel)",
   "language": "python",
   "name": "python3"
  },
  "language_info": {
   "codemirror_mode": {
    "name": "ipython",
    "version": 3
   },
   "file_extension": ".py",
   "mimetype": "text/x-python",
   "name": "python",
   "nbconvert_exporter": "python",
   "pygments_lexer": "ipython3",
   "version": "3.10.9"
  }
 },
 "nbformat": 4,
 "nbformat_minor": 4
}
