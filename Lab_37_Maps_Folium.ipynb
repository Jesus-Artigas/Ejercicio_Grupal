{
 "cells": [
  {
   "cell_type": "markdown",
   "metadata": {
    "id": "sfAG-XkPPZ5n"
   },
   "source": [
    "# 1.Ejemplo mapa Uruguay"
   ]
  },
  {
   "cell_type": "code",
   "execution_count": null,
   "metadata": {},
   "outputs": [],
   "source": [
    "pip install folium"
   ]
  },
  {
   "cell_type": "code",
   "execution_count": null,
   "metadata": {
    "id": "qt8eUySrFunN"
   },
   "outputs": [],
   "source": [
    "import folium\n",
    "from branca.element import Figure\n",
    "\n",
    "fig = Figure(width=600, height=400)\n",
    "m = folium.Map(location=[-32.5583168, -55.811697], #Latitude, Longitude\n",
    "               zoom_start=6,\n",
    "               min_zoom=2,\n",
    "               max_zoom=10)\n",
    "fig.add_child(m)"
   ]
  },
  {
   "cell_type": "markdown",
   "metadata": {
    "id": "Ak_pgPNVS24G"
   },
   "source": [
    "## Fuente coordenadas: [Latitude](https://latitude.to/map/uy/uruguay)"
   ]
  },
  {
   "cell_type": "markdown",
   "metadata": {
    "id": "8Dv7MphPPeE0"
   },
   "source": [
    "# 2.Trazado de las estaciones de alquiler de Dublin Bikes"
   ]
  },
  {
   "cell_type": "markdown",
   "metadata": {
    "id": "3HxQVxNDOKHX"
   },
   "source": [
    "## 2.1. Introducción\n",
    "\n",
    "En el siguiente ejercicio vamos a recorrer los pasos para obtener los datos de la ubicación de unas bicicletas de alquiler y mostrar las ubicaciones en un mapa. Para ello, vamos a utilizar un conjunto de datos procedentes de la API de Dublin Bikes, concretamente de la ubicación de las estaciones de alquiler de bicicletas."
   ]
  },
  {
   "cell_type": "code",
   "execution_count": null,
   "metadata": {
    "id": "nGT4FGxkIfy3"
   },
   "outputs": [],
   "source": [
    "# Importar librerias y leer dataset\n",
    "\n",
    "import pandas as pd\n",
    "import folium\n",
    "\n",
    "location = \"https://data.smartdublin.ie/dataset/33ec9fe2-4957-4e9a-ab55-c5e917c7a9ab/resource/2dec86ed-76ed-47a3-ae28-646db5c5b965/download/dublin.csv\"\n",
    "bike_station_locations = pd.read_csv(location)\n",
    "bike_station_locations"
   ]
  },
  {
   "cell_type": "markdown",
   "metadata": {
    "id": "bxnmJXSWUvwm"
   },
   "source": [
    "## 2.2. Mantener sólo las columnas que necesito\n",
    "\n",
    "Quiero mantener la Latitud, la Longitud y el Nombre de la ubicación. Las dos primeras columnas me permitirán mapear las localizaciones y la última la utilizaré para dar un nombre a cada pin de localización."
   ]
  },
  {
   "cell_type": "code",
   "execution_count": null,
   "metadata": {
    "id": "8jyBWO-5Ii_7"
   },
   "outputs": [],
   "source": [
    "bike_station_locations = bike_station_locations[[\"Latitude\", \"Longitude\", \"Name\"]]\n",
    "bike_station_locations"
   ]
  },
  {
   "cell_type": "markdown",
   "metadata": {
    "id": "IUj8xoLqU7RG"
   },
   "source": [
    "## 2.3. Creación del mapa\n",
    "\n",
    "Para el mapa, el primer paso es crear un mapa de la ubicación que quiero. Con el parámetro de ubicación, paso la media de las coordenadas de latitud y longitud que tengo para centrar el mapa allí."
   ]
  },
  {
   "cell_type": "code",
   "execution_count": null,
   "metadata": {
    "id": "cYRINOjRF7tq"
   },
   "outputs": [],
   "source": [
    "map = folium.Map(location=[bike_station_locations.Latitude.mean(),\n",
    "                           bike_station_locations.Longitude.mean()],\n",
    "                 zoom_start=14,\n",
    "                 control_scale=True) #Esto da un mapa en blanco centrado en la ubicación previamente dada y ampliado a 14\n",
    "map"
   ]
  },
  {
   "cell_type": "markdown",
   "metadata": {
    "id": "qp0Xr5w6VY23"
   },
   "source": [
    "## 2.4. Añadir puntos al mapa\n",
    "\n",
    "Ahora añado al mapa los puntos correspondientes a la ubicación de cada estación de bicicletas. Iterando a través de cada fila del dataframe, paso la latitud y longitud de la ubicación a folium.Marker como una lista y paso el nombre al parámetro popup. Y para cada ubicación añado al mapa."
   ]
  },
  {
   "cell_type": "code",
   "execution_count": null,
   "metadata": {
    "id": "8y_0jvYeGYur"
   },
   "outputs": [],
   "source": [
    "for index, location_info in bike_station_locations.iterrows():\n",
    "    folium.Marker([location_info[\"Latitude\"],\n",
    "                   location_info[\"Longitude\"]],\n",
    "                  popup=location_info[\"Name\"]).add_to(map)\n",
    "map"
   ]
  },
  {
   "cell_type": "markdown",
   "metadata": {
    "id": "7aHFsPjQPlmO"
   },
   "source": [
    "## Fuente: [Creating a Simple Map with Folium and Python](https://towardsdatascience.com/creating-a-simple-map-with-folium-and-python-4c083abfff94)"
   ]
  },
  {
   "cell_type": "markdown",
   "metadata": {
    "id": "eTBt1Q2XP0tf"
   },
   "source": [
    "# Documentación: [Folium](https://python-visualization.github.io/folium/modules.html)"
   ]
  }
 ],
 "metadata": {
  "colab": {
   "name": "Lab_37_Maps_Folium.ipynb",
   "provenance": [],
   "toc_visible": true
  },
  "kernelspec": {
   "display_name": "Python 3",
   "language": "python",
   "name": "python3"
  },
  "language_info": {
   "codemirror_mode": {
    "name": "ipython",
    "version": 3
   },
   "file_extension": ".py",
   "mimetype": "text/x-python",
   "name": "python",
   "nbconvert_exporter": "python",
   "pygments_lexer": "ipython3",
   "version": "3.10.6"
  },
  "vscode": {
   "interpreter": {
    "hash": "f1efed72db2ccaa73ec5f4666924497a8a644cdf5b57283ddc69aa38a5cb523a"
   }
  }
 },
 "nbformat": 4,
 "nbformat_minor": 4
}
