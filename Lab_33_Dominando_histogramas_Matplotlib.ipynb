{
 "cells": [
  {
   "cell_type": "markdown",
   "metadata": {
    "id": "Rk1e0XsGAa7l"
   },
   "source": [
    "# **Práctica de laboratorio 33:** *Dominando los histogramas en Matplotlib*"
   ]
  },
  {
   "cell_type": "markdown",
   "metadata": {
    "id": "9VpEQULuqPKl"
   },
   "source": [
    "## Ejercicio 1\n",
    "Importar Pandas y Matplotlib y leer el archivo `nhanes_2015_2016.csv`"
   ]
  },
  {
   "cell_type": "code",
   "execution_count": 1,
   "metadata": {
    "id": "wZg_ZsmFpjUb"
   },
   "outputs": [],
   "source": [
    "import numpy as np  \n",
    "import pandas as pd\n",
    "import os\n",
    "import matplotlib.pyplot as plt"
   ]
  },
  {
   "cell_type": "code",
   "execution_count": 2,
   "metadata": {},
   "outputs": [
    {
     "data": {
      "text/html": [
       "<div>\n",
       "<style scoped>\n",
       "    .dataframe tbody tr th:only-of-type {\n",
       "        vertical-align: middle;\n",
       "    }\n",
       "\n",
       "    .dataframe tbody tr th {\n",
       "        vertical-align: top;\n",
       "    }\n",
       "\n",
       "    .dataframe thead th {\n",
       "        text-align: right;\n",
       "    }\n",
       "</style>\n",
       "<table border=\"1\" class=\"dataframe\">\n",
       "  <thead>\n",
       "    <tr style=\"text-align: right;\">\n",
       "      <th></th>\n",
       "      <th>SEQN</th>\n",
       "      <th>ALQ101</th>\n",
       "      <th>ALQ110</th>\n",
       "      <th>ALQ130</th>\n",
       "      <th>SMQ020</th>\n",
       "      <th>RIAGENDR</th>\n",
       "      <th>RIDAGEYR</th>\n",
       "      <th>RIDRETH1</th>\n",
       "      <th>DMDCITZN</th>\n",
       "      <th>DMDEDUC2</th>\n",
       "      <th>...</th>\n",
       "      <th>BPXSY2</th>\n",
       "      <th>BPXDI2</th>\n",
       "      <th>BMXWT</th>\n",
       "      <th>BMXHT</th>\n",
       "      <th>BMXBMI</th>\n",
       "      <th>BMXLEG</th>\n",
       "      <th>BMXARML</th>\n",
       "      <th>BMXARMC</th>\n",
       "      <th>BMXWAIST</th>\n",
       "      <th>HIQ210</th>\n",
       "    </tr>\n",
       "  </thead>\n",
       "  <tbody>\n",
       "    <tr>\n",
       "      <th>0</th>\n",
       "      <td>83732</td>\n",
       "      <td>1.0</td>\n",
       "      <td>NaN</td>\n",
       "      <td>1.0</td>\n",
       "      <td>1</td>\n",
       "      <td>1</td>\n",
       "      <td>62</td>\n",
       "      <td>3</td>\n",
       "      <td>1.0</td>\n",
       "      <td>5.0</td>\n",
       "      <td>...</td>\n",
       "      <td>124.0</td>\n",
       "      <td>64.0</td>\n",
       "      <td>94.8</td>\n",
       "      <td>184.5</td>\n",
       "      <td>27.8</td>\n",
       "      <td>43.3</td>\n",
       "      <td>43.6</td>\n",
       "      <td>35.9</td>\n",
       "      <td>101.1</td>\n",
       "      <td>2.0</td>\n",
       "    </tr>\n",
       "    <tr>\n",
       "      <th>1</th>\n",
       "      <td>83733</td>\n",
       "      <td>1.0</td>\n",
       "      <td>NaN</td>\n",
       "      <td>6.0</td>\n",
       "      <td>1</td>\n",
       "      <td>1</td>\n",
       "      <td>53</td>\n",
       "      <td>3</td>\n",
       "      <td>2.0</td>\n",
       "      <td>3.0</td>\n",
       "      <td>...</td>\n",
       "      <td>140.0</td>\n",
       "      <td>88.0</td>\n",
       "      <td>90.4</td>\n",
       "      <td>171.4</td>\n",
       "      <td>30.8</td>\n",
       "      <td>38.0</td>\n",
       "      <td>40.0</td>\n",
       "      <td>33.2</td>\n",
       "      <td>107.9</td>\n",
       "      <td>NaN</td>\n",
       "    </tr>\n",
       "    <tr>\n",
       "      <th>2</th>\n",
       "      <td>83734</td>\n",
       "      <td>1.0</td>\n",
       "      <td>NaN</td>\n",
       "      <td>NaN</td>\n",
       "      <td>1</td>\n",
       "      <td>1</td>\n",
       "      <td>78</td>\n",
       "      <td>3</td>\n",
       "      <td>1.0</td>\n",
       "      <td>3.0</td>\n",
       "      <td>...</td>\n",
       "      <td>132.0</td>\n",
       "      <td>44.0</td>\n",
       "      <td>83.4</td>\n",
       "      <td>170.1</td>\n",
       "      <td>28.8</td>\n",
       "      <td>35.6</td>\n",
       "      <td>37.0</td>\n",
       "      <td>31.0</td>\n",
       "      <td>116.5</td>\n",
       "      <td>2.0</td>\n",
       "    </tr>\n",
       "    <tr>\n",
       "      <th>3</th>\n",
       "      <td>83735</td>\n",
       "      <td>2.0</td>\n",
       "      <td>1.0</td>\n",
       "      <td>1.0</td>\n",
       "      <td>2</td>\n",
       "      <td>2</td>\n",
       "      <td>56</td>\n",
       "      <td>3</td>\n",
       "      <td>1.0</td>\n",
       "      <td>5.0</td>\n",
       "      <td>...</td>\n",
       "      <td>134.0</td>\n",
       "      <td>68.0</td>\n",
       "      <td>109.8</td>\n",
       "      <td>160.9</td>\n",
       "      <td>42.4</td>\n",
       "      <td>38.5</td>\n",
       "      <td>37.7</td>\n",
       "      <td>38.3</td>\n",
       "      <td>110.1</td>\n",
       "      <td>2.0</td>\n",
       "    </tr>\n",
       "    <tr>\n",
       "      <th>4</th>\n",
       "      <td>83736</td>\n",
       "      <td>2.0</td>\n",
       "      <td>1.0</td>\n",
       "      <td>1.0</td>\n",
       "      <td>2</td>\n",
       "      <td>2</td>\n",
       "      <td>42</td>\n",
       "      <td>4</td>\n",
       "      <td>1.0</td>\n",
       "      <td>4.0</td>\n",
       "      <td>...</td>\n",
       "      <td>114.0</td>\n",
       "      <td>54.0</td>\n",
       "      <td>55.2</td>\n",
       "      <td>164.9</td>\n",
       "      <td>20.3</td>\n",
       "      <td>37.4</td>\n",
       "      <td>36.0</td>\n",
       "      <td>27.2</td>\n",
       "      <td>80.4</td>\n",
       "      <td>2.0</td>\n",
       "    </tr>\n",
       "    <tr>\n",
       "      <th>...</th>\n",
       "      <td>...</td>\n",
       "      <td>...</td>\n",
       "      <td>...</td>\n",
       "      <td>...</td>\n",
       "      <td>...</td>\n",
       "      <td>...</td>\n",
       "      <td>...</td>\n",
       "      <td>...</td>\n",
       "      <td>...</td>\n",
       "      <td>...</td>\n",
       "      <td>...</td>\n",
       "      <td>...</td>\n",
       "      <td>...</td>\n",
       "      <td>...</td>\n",
       "      <td>...</td>\n",
       "      <td>...</td>\n",
       "      <td>...</td>\n",
       "      <td>...</td>\n",
       "      <td>...</td>\n",
       "      <td>...</td>\n",
       "      <td>...</td>\n",
       "    </tr>\n",
       "    <tr>\n",
       "      <th>5730</th>\n",
       "      <td>93695</td>\n",
       "      <td>2.0</td>\n",
       "      <td>2.0</td>\n",
       "      <td>NaN</td>\n",
       "      <td>1</td>\n",
       "      <td>2</td>\n",
       "      <td>76</td>\n",
       "      <td>3</td>\n",
       "      <td>1.0</td>\n",
       "      <td>3.0</td>\n",
       "      <td>...</td>\n",
       "      <td>112.0</td>\n",
       "      <td>46.0</td>\n",
       "      <td>59.1</td>\n",
       "      <td>165.8</td>\n",
       "      <td>21.5</td>\n",
       "      <td>38.2</td>\n",
       "      <td>37.0</td>\n",
       "      <td>29.5</td>\n",
       "      <td>95.0</td>\n",
       "      <td>2.0</td>\n",
       "    </tr>\n",
       "    <tr>\n",
       "      <th>5731</th>\n",
       "      <td>93696</td>\n",
       "      <td>2.0</td>\n",
       "      <td>2.0</td>\n",
       "      <td>NaN</td>\n",
       "      <td>2</td>\n",
       "      <td>1</td>\n",
       "      <td>26</td>\n",
       "      <td>3</td>\n",
       "      <td>1.0</td>\n",
       "      <td>5.0</td>\n",
       "      <td>...</td>\n",
       "      <td>116.0</td>\n",
       "      <td>76.0</td>\n",
       "      <td>112.1</td>\n",
       "      <td>182.2</td>\n",
       "      <td>33.8</td>\n",
       "      <td>43.4</td>\n",
       "      <td>41.8</td>\n",
       "      <td>42.3</td>\n",
       "      <td>110.2</td>\n",
       "      <td>2.0</td>\n",
       "    </tr>\n",
       "    <tr>\n",
       "      <th>5732</th>\n",
       "      <td>93697</td>\n",
       "      <td>1.0</td>\n",
       "      <td>NaN</td>\n",
       "      <td>1.0</td>\n",
       "      <td>1</td>\n",
       "      <td>2</td>\n",
       "      <td>80</td>\n",
       "      <td>3</td>\n",
       "      <td>1.0</td>\n",
       "      <td>4.0</td>\n",
       "      <td>...</td>\n",
       "      <td>146.0</td>\n",
       "      <td>58.0</td>\n",
       "      <td>71.7</td>\n",
       "      <td>152.2</td>\n",
       "      <td>31.0</td>\n",
       "      <td>31.3</td>\n",
       "      <td>37.5</td>\n",
       "      <td>28.8</td>\n",
       "      <td>NaN</td>\n",
       "      <td>2.0</td>\n",
       "    </tr>\n",
       "    <tr>\n",
       "      <th>5733</th>\n",
       "      <td>93700</td>\n",
       "      <td>NaN</td>\n",
       "      <td>NaN</td>\n",
       "      <td>NaN</td>\n",
       "      <td>1</td>\n",
       "      <td>1</td>\n",
       "      <td>35</td>\n",
       "      <td>3</td>\n",
       "      <td>2.0</td>\n",
       "      <td>1.0</td>\n",
       "      <td>...</td>\n",
       "      <td>106.0</td>\n",
       "      <td>66.0</td>\n",
       "      <td>78.2</td>\n",
       "      <td>173.3</td>\n",
       "      <td>26.0</td>\n",
       "      <td>40.3</td>\n",
       "      <td>37.5</td>\n",
       "      <td>30.6</td>\n",
       "      <td>98.9</td>\n",
       "      <td>2.0</td>\n",
       "    </tr>\n",
       "    <tr>\n",
       "      <th>5734</th>\n",
       "      <td>93702</td>\n",
       "      <td>1.0</td>\n",
       "      <td>NaN</td>\n",
       "      <td>2.0</td>\n",
       "      <td>2</td>\n",
       "      <td>2</td>\n",
       "      <td>24</td>\n",
       "      <td>3</td>\n",
       "      <td>1.0</td>\n",
       "      <td>5.0</td>\n",
       "      <td>...</td>\n",
       "      <td>114.0</td>\n",
       "      <td>68.0</td>\n",
       "      <td>58.3</td>\n",
       "      <td>165.0</td>\n",
       "      <td>21.4</td>\n",
       "      <td>38.2</td>\n",
       "      <td>33.5</td>\n",
       "      <td>26.2</td>\n",
       "      <td>72.5</td>\n",
       "      <td>2.0</td>\n",
       "    </tr>\n",
       "  </tbody>\n",
       "</table>\n",
       "<p>5735 rows × 28 columns</p>\n",
       "</div>"
      ],
      "text/plain": [
       "       SEQN  ALQ101  ALQ110  ALQ130  SMQ020  RIAGENDR  RIDAGEYR  RIDRETH1  \\\n",
       "0     83732     1.0     NaN     1.0       1         1        62         3   \n",
       "1     83733     1.0     NaN     6.0       1         1        53         3   \n",
       "2     83734     1.0     NaN     NaN       1         1        78         3   \n",
       "3     83735     2.0     1.0     1.0       2         2        56         3   \n",
       "4     83736     2.0     1.0     1.0       2         2        42         4   \n",
       "...     ...     ...     ...     ...     ...       ...       ...       ...   \n",
       "5730  93695     2.0     2.0     NaN       1         2        76         3   \n",
       "5731  93696     2.0     2.0     NaN       2         1        26         3   \n",
       "5732  93697     1.0     NaN     1.0       1         2        80         3   \n",
       "5733  93700     NaN     NaN     NaN       1         1        35         3   \n",
       "5734  93702     1.0     NaN     2.0       2         2        24         3   \n",
       "\n",
       "      DMDCITZN  DMDEDUC2  ...  BPXSY2  BPXDI2  BMXWT  BMXHT  BMXBMI  BMXLEG  \\\n",
       "0          1.0       5.0  ...   124.0    64.0   94.8  184.5    27.8    43.3   \n",
       "1          2.0       3.0  ...   140.0    88.0   90.4  171.4    30.8    38.0   \n",
       "2          1.0       3.0  ...   132.0    44.0   83.4  170.1    28.8    35.6   \n",
       "3          1.0       5.0  ...   134.0    68.0  109.8  160.9    42.4    38.5   \n",
       "4          1.0       4.0  ...   114.0    54.0   55.2  164.9    20.3    37.4   \n",
       "...        ...       ...  ...     ...     ...    ...    ...     ...     ...   \n",
       "5730       1.0       3.0  ...   112.0    46.0   59.1  165.8    21.5    38.2   \n",
       "5731       1.0       5.0  ...   116.0    76.0  112.1  182.2    33.8    43.4   \n",
       "5732       1.0       4.0  ...   146.0    58.0   71.7  152.2    31.0    31.3   \n",
       "5733       2.0       1.0  ...   106.0    66.0   78.2  173.3    26.0    40.3   \n",
       "5734       1.0       5.0  ...   114.0    68.0   58.3  165.0    21.4    38.2   \n",
       "\n",
       "      BMXARML  BMXARMC  BMXWAIST  HIQ210  \n",
       "0        43.6     35.9     101.1     2.0  \n",
       "1        40.0     33.2     107.9     NaN  \n",
       "2        37.0     31.0     116.5     2.0  \n",
       "3        37.7     38.3     110.1     2.0  \n",
       "4        36.0     27.2      80.4     2.0  \n",
       "...       ...      ...       ...     ...  \n",
       "5730     37.0     29.5      95.0     2.0  \n",
       "5731     41.8     42.3     110.2     2.0  \n",
       "5732     37.5     28.8       NaN     2.0  \n",
       "5733     37.5     30.6      98.9     2.0  \n",
       "5734     33.5     26.2      72.5     2.0  \n",
       "\n",
       "[5735 rows x 28 columns]"
      ]
     },
     "execution_count": 2,
     "metadata": {},
     "output_type": "execute_result"
    }
   ],
   "source": [
    "path = os.path.join('Datasets', 'nhanes_2015_2016.csv')\n",
    "df = pd.read_csv(path, delimiter=',')\n",
    "df"
   ]
  },
  {
   "cell_type": "markdown",
   "metadata": {
    "id": "7xBwSpCftALm"
   },
   "source": [
    "## Ejercicio 2\n",
    "Crea un histograma de la variable `BPXSY1` (Presión Arterial Sistólica: presión máxima que ejerce el corazón cuando late) con las siguientes característias y visualiza el resultado:\n",
    "- 15 bins\n",
    "- Tamaño de la figura: 8\" de ancho y 6\" de alto\n",
    "- Título de la figura: Distribución de la presión arterial sistólica\n",
    "- Etiqueta en el eje X: Presión arterial sistólica\n",
    "- Etiqueta en el eje Y: Frecuencia\n",
    "- Elige un color de tú elección"
   ]
  },
  {
   "cell_type": "code",
   "execution_count": 3,
   "metadata": {
    "id": "GE9lZp81vQc7"
   },
   "outputs": [],
   "source": [
    "import  seaborn as sns\n",
    "sns.set_theme()"
   ]
  },
  {
   "cell_type": "code",
   "execution_count": 7,
   "metadata": {},
   "outputs": [
    {
     "data": {
      "image/png": "[encoded data removed]",
      "text/plain": [
       "<Figure size 800x600 with 1 Axes>"
      ]
     },
     "metadata": {},
     "output_type": "display_data"
    }
   ],
   "source": [
    "custom_param = {'figure.figsize': (8, 6)}\n",
    "sns.set_theme(rc=custom_param)\n",
    "sns.histplot(data=df[\"BPXSY1\"], bins=15, kde = False, fill=False, color='red')\n",
    "plt.ylabel('Frecuencia')\n",
    "plt.xlabel('Presion Arterial Sistólica')\n",
    "plt.title('Distribucion de la Presión Artrial Sistólica')\n",
    "plt.show()"
   ]
  },
  {
   "cell_type": "markdown",
   "metadata": {
    "id": "oPRpoF-0vRYR"
   },
   "source": [
    "## Ejercicio 3\n",
    "¿Qué forma de distribución estadística tiene el histograma? y ¿qué significa?\n",
    "\n",
    "**Escribe tú respuesta aquí:** "
   ]
  },
  {
   "attachments": {},
   "cell_type": "markdown",
   "metadata": {},
   "source": [
    "Presentauna distribucion poisson sesgada a la izquierda "
   ]
  },
  {
   "cell_type": "markdown",
   "metadata": {
    "id": "nWHfL29Vwd9J"
   },
   "source": [
    "## Ejercicio 4\n",
    "Plotear un histograma con tres variables: `BMXWT` (peso), `BMXHT` (altura), `BMXBMI` (Índice de Masa Corporal); con las siguientes características y plotea el resultado:\n",
    "- 15 bins\n",
    "- Tamaño de la figura: 10\" de ancho y 6\" de alto\n",
    "- Transparencia: 0.6\n",
    "- Título de la figura: Distribución del peso, altura e IMC\n",
    "- Etiqueta en el eje Y: Frecuencia\n",
    "- Elige los tres colores de tú elección"
   ]
  },
  {
   "cell_type": "code",
   "execution_count": 13,
   "metadata": {
    "id": "8bjgWBNIxrI1"
   },
   "outputs": [
    {
     "ename": "TypeError",
     "evalue": "hist() missing 1 required positional argument: 'x'",
     "output_type": "error",
     "traceback": [
      "\u001b[1;31m---------------------------------------------------------------------------\u001b[0m",
      "\u001b[1;31mTypeError\u001b[0m                                 Traceback (most recent call last)",
      "\u001b[1;32mc:\\Users\\jessd\\OneDrive\\Escritorio\\Curso Senpai\\Modulo 10\\Lab_33_Dominando_histogramas_Matplotlib.ipynb Celda 11\u001b[0m in \u001b[0;36m<cell line: 5>\u001b[1;34m()\u001b[0m\n\u001b[0;32m      <a href='vscode-notebook-cell:/c%3A/Users/jessd/OneDrive/Escritorio/Curso%20Senpai/Modulo%2010/Lab_33_Dominando_histogramas_Matplotlib.ipynb#X13sZmlsZQ%3D%3D?line=1'>2</a>\u001b[0m Altura \u001b[39m=\u001b[39m df[\u001b[39m'\u001b[39m\u001b[39mBMXHT\u001b[39m\u001b[39m'\u001b[39m]\n\u001b[0;32m      <a href='vscode-notebook-cell:/c%3A/Users/jessd/OneDrive/Escritorio/Curso%20Senpai/Modulo%2010/Lab_33_Dominando_histogramas_Matplotlib.ipynb#X13sZmlsZQ%3D%3D?line=2'>3</a>\u001b[0m ICM \u001b[39m=\u001b[39m df[\u001b[39m'\u001b[39m\u001b[39mBMXBMI\u001b[39m\u001b[39m'\u001b[39m]\n\u001b[1;32m----> <a href='vscode-notebook-cell:/c%3A/Users/jessd/OneDrive/Escritorio/Curso%20Senpai/Modulo%2010/Lab_33_Dominando_histogramas_Matplotlib.ipynb#X13sZmlsZQ%3D%3D?line=4'>5</a>\u001b[0m plt\u001b[39m.\u001b[39;49mhist(figsize\u001b[39m=\u001b[39;49m(\u001b[39m10\u001b[39;49m, \u001b[39m6\u001b[39;49m))\n\u001b[0;32m      <a href='vscode-notebook-cell:/c%3A/Users/jessd/OneDrive/Escritorio/Curso%20Senpai/Modulo%2010/Lab_33_Dominando_histogramas_Matplotlib.ipynb#X13sZmlsZQ%3D%3D?line=5'>6</a>\u001b[0m plt\u001b[39m.\u001b[39mscatter(\u001b[39m'\u001b[39m\u001b[39mfrecuency\u001b[39m\u001b[39m'\u001b[39m, Peso,\n\u001b[0;32m      <a href='vscode-notebook-cell:/c%3A/Users/jessd/OneDrive/Escritorio/Curso%20Senpai/Modulo%2010/Lab_33_Dominando_histogramas_Matplotlib.ipynb#X13sZmlsZQ%3D%3D?line=6'>7</a>\u001b[0m             color\u001b[39m=\u001b[39m\u001b[39m'\u001b[39m\u001b[39mgreen\u001b[39m\u001b[39m'\u001b[39m,\n\u001b[0;32m      <a href='vscode-notebook-cell:/c%3A/Users/jessd/OneDrive/Escritorio/Curso%20Senpai/Modulo%2010/Lab_33_Dominando_histogramas_Matplotlib.ipynb#X13sZmlsZQ%3D%3D?line=7'>8</a>\u001b[0m             alpha\u001b[39m=\u001b[39m\u001b[39m0.6\u001b[39m\n\u001b[0;32m      <a href='vscode-notebook-cell:/c%3A/Users/jessd/OneDrive/Escritorio/Curso%20Senpai/Modulo%2010/Lab_33_Dominando_histogramas_Matplotlib.ipynb#X13sZmlsZQ%3D%3D?line=8'>9</a>\u001b[0m             )\n\u001b[0;32m     <a href='vscode-notebook-cell:/c%3A/Users/jessd/OneDrive/Escritorio/Curso%20Senpai/Modulo%2010/Lab_33_Dominando_histogramas_Matplotlib.ipynb#X13sZmlsZQ%3D%3D?line=9'>10</a>\u001b[0m plt\u001b[39m.\u001b[39mscatter(\u001b[39m'\u001b[39m\u001b[39mfrecuency\u001b[39m\u001b[39m'\u001b[39m, Altura,\n\u001b[0;32m     <a href='vscode-notebook-cell:/c%3A/Users/jessd/OneDrive/Escritorio/Curso%20Senpai/Modulo%2010/Lab_33_Dominando_histogramas_Matplotlib.ipynb#X13sZmlsZQ%3D%3D?line=10'>11</a>\u001b[0m             color\u001b[39m=\u001b[39m\u001b[39m'\u001b[39m\u001b[39mred\u001b[39m\u001b[39m'\u001b[39m,\n\u001b[0;32m     <a href='vscode-notebook-cell:/c%3A/Users/jessd/OneDrive/Escritorio/Curso%20Senpai/Modulo%2010/Lab_33_Dominando_histogramas_Matplotlib.ipynb#X13sZmlsZQ%3D%3D?line=11'>12</a>\u001b[0m             alpha\u001b[39m=\u001b[39m\u001b[39m0.6\u001b[39m\n\u001b[0;32m     <a href='vscode-notebook-cell:/c%3A/Users/jessd/OneDrive/Escritorio/Curso%20Senpai/Modulo%2010/Lab_33_Dominando_histogramas_Matplotlib.ipynb#X13sZmlsZQ%3D%3D?line=12'>13</a>\u001b[0m             )\n",
      "\u001b[1;31mTypeError\u001b[0m: hist() missing 1 required positional argument: 'x'"
     ]
    }
   ],
   "source": [
    "Peso = df['BMXWT']\n",
    "Altura = df['BMXHT']\n",
    "ICM = df['BMXBMI']\n"
   ]
  },
  {
   "cell_type": "markdown",
   "metadata": {
    "id": "NQB00o3myBBf"
   },
   "source": [
    "**Comentario:** Por suerte, en este gráfico, las tres distribuciones tienen rangos bastante diferentes. Por lo tanto, no hay demasiado solapamiento. Pero si se superponen demasiado, es una buena idea mantener los gráficos separados. Por ejemplo, si se trazan dos presiones sanguíneas sistólicas (`BPXSY1`, `BPXSY2`) y dos diastólicas (cifra inferior que representa la cantidad de presión en las arterias entre un latido y otro: `BPXDI1`; `BPXDI2`) en el mismo gráfico, se superpondrán tanto que será difícil entenderlas. En esos casos, es bueno hacer las distribuciones en subtrazados separados."
   ]
  },
  {
   "cell_type": "markdown",
   "metadata": {
    "id": "tnEmOP_0zzgi"
   },
   "source": [
    "## Ejercicio 5\n",
    "Plotear 4 histogramas en subtrazos separados con las siguientes características y visualizar el resultado:\n",
    "- Variables: `BPXSY1`, `BPXDI1`, `BPXSY2`, `BPXDI2`\n",
    "- 15 bins\n",
    "- Tamaño de la figura: 10\" de ancho y 8\" de alto\n",
    "- La anchura relativa de las barras: 0.9. **Revisar la documentación:** [matplotlib.pyplot.hist](https://matplotlib.org/3.5.1/api/_as_gen/matplotlib.pyplot.hist.html). *Cuando tengas un posible candidato puedes consultarselo al docente*.\n",
    "- ¿Las figuras las queremos con cuadrícula? No. Por tanto, especificamos grid = False (prueba con True y observa la diferencia)"
   ]
  },
  {
   "cell_type": "code",
   "execution_count": null,
   "metadata": {
    "id": "nev5EFNIyKnc"
   },
   "outputs": [],
   "source": []
  },
  {
   "cell_type": "markdown",
   "metadata": {
    "id": "E0h4EGvY7guK"
   },
   "source": [
    "**Comentario:** Es mucho más interesante y útil cuando las cuatro presiones sanguíneas están al lado. Porque se pueden comparar. Será aún más útil si podemos tenerlas en la misma escala, especialmente si necesitamos compararlas. Para ello, necesitamos poner el mismo límite del eje X y del eje Y."
   ]
  },
  {
   "cell_type": "markdown",
   "metadata": {
    "id": "-zQUcXZnAL1z"
   },
   "source": [
    "## Ejercicio 6\n",
    "Con la misma línea de código anterior, agrega los siguientes parámetros:\n",
    "- sharex = True\n",
    "- sharey = True"
   ]
  },
  {
   "cell_type": "code",
   "execution_count": null,
   "metadata": {
    "id": "qfIN6CvG1W5H"
   },
   "outputs": [],
   "source": []
  },
  {
   "cell_type": "markdown",
   "metadata": {
    "id": "Z7skhUrU7tgu"
   },
   "source": [
    "**Comentario:** Como se puede apreciar, tenemos como resultado las mismas cuatro variables pero con un aspecto diferente. La razón es que están en la misma escala. Por lo tanto, casi todas se encogen. Algunas se redujeron en la dirección x y otras en la dirección y.\n",
    "\n",
    "Tenemos diferentes distribuciones para diferentes variables en los dos gráficos anteriores. ¿Pero qué pasa si quiero graficar sólo una variable continua basada en diferentes categorías de una variable categórica?\n",
    "\n",
    "Tenemos una variable categórica `DMDEDUC2` que representa el nivel de educación de la población. A continuación, vamos a trazar la distribución de la presión arterial sistólica para cada nivel educativo.\n",
    "\n",
    "Pero en este conjunto de datos los niveles de educación se expresan como valores numéricos. Por lo que tenemos que remplazar los valores númericos."
   ]
  },
  {
   "cell_type": "markdown",
   "metadata": {
    "id": "mqKj-lOnAZDE"
   },
   "source": [
    "## Ejercicio 7\n",
    "a) En un nuevo DF llamado `DMDEDUC2x` remplaza los siguientes valores:\n",
    "- 1 por <9\n",
    "- 2 por 9-11\n",
    "- 3 por escuela superior\n",
    "- 4 por algo de universidad\n",
    "- 5 por universidad\n",
    "- 7 por no contesto\n",
    "- 9 por no sabe\n",
    "\n",
    "b) Traza el histograma de la presión arterial sistólica (`BPXSY1`) para cada nivel educativo (`DMDEDUC2x`) utilizando las características de la figura del ejercicio anterior"
   ]
  },
  {
   "cell_type": "code",
   "execution_count": null,
   "metadata": {
    "id": "64-fXv_29KqO"
   },
   "outputs": [],
   "source": [
    "# a) DF\n"
   ]
  },
  {
   "cell_type": "code",
   "execution_count": null,
   "metadata": {
    "id": "lyoEhZ3vDKb2"
   },
   "outputs": [],
   "source": [
    "# b) Plot\n"
   ]
  },
  {
   "cell_type": "markdown",
   "metadata": {
    "id": "YFVq_NcjJate"
   },
   "source": [
    "## Ejercicio 8\n",
    "A veces puede ser interesante tener una fila individual para cada histograma.\n",
    "\n",
    "Para ello, has conseguido un código de Internet, pero así como se encuentra no funciona. Por tanto, tendrás que encontrar los fallos para hacerlo que funcione."
   ]
  },
  {
   "cell_type": "code",
   "execution_count": null,
   "metadata": {
    "id": "ak4HifTWIk9Z"
   },
   "outputs": [],
   "source": [
    "ax = df.hist(column = \"BPXSY1\",\n",
    "        by = \"DMDEDUC2x\",\n",
    "        bins = 15,\n",
    "        figsize=(8, 18),\n",
    "        grid = False,\n",
    "        rwidth = 0.9,\n",
    "        sharex = True,\n",
    "        sharey = True,\n",
    "        layout=(6, 1)\n",
    "       )\n",
    "for x in ax:\n",
    "    #Eliminación de las líneas izquierda, derecha y superior de la caja de cada figura\n",
    "    x.spines['right'].set_visible(False)\n",
    "    x.spines['left'].set_visible(False)\n",
    "    x.spines['top'].set_visible(False)\n",
    "\n",
    "#Añadir las marcas x en cada figura x.tick_params(axis=”both”, labelbottom = ‘on’) x.tick_params(axis=’x’, rotation = 0)   plt.ylim(0, 300)   vals = x.get_yticks()   \n",
    "\n",
    "#Obtención de las cuadrículas horizontales grises en cada figura for v in vals: x.axhline(y = v, linestyle=”solid”, color = ‘gray’, alpha = 0.1)   \n",
    "\n",
    "#Añadir algo de espacio entre cada figura plt.subplots_adjust(hspace=0.8) plt.show()"
   ]
  }
 ],
 "metadata": {
  "colab": {
   "name": "Lab_33_Dominando_histogramas_Matplotlib.ipynb",
   "provenance": []
  },
  "kernelspec": {
   "display_name": "Python 3",
   "language": "python",
   "name": "python3"
  },
  "language_info": {
   "codemirror_mode": {
    "name": "ipython",
    "version": 3
   },
   "file_extension": ".py",
   "mimetype": "text/x-python",
   "name": "python",
   "nbconvert_exporter": "python",
   "pygments_lexer": "ipython3",
   "version": "3.10.6"
  },
  "vscode": {
   "interpreter": {
    "hash": "f1efed72db2ccaa73ec5f4666924497a8a644cdf5b57283ddc69aa38a5cb523a"
   }
  }
 },
 "nbformat": 4,
 "nbformat_minor": 4
}
